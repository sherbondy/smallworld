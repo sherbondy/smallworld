{
 "metadata": {
  "language": "Julia",
  "name": ""
 },
 "nbformat": 3,
 "nbformat_minor": 0,
 "worksheets": [
  {
   "cells": [
    {
     "cell_type": "code",
     "collapsed": false,
     "input": [
      "using NIfTI, ImageView, Images, Gadfly;"
     ],
     "language": "python",
     "metadata": {},
     "outputs": [],
     "prompt_number": 20
    },
    {
     "cell_type": "code",
     "collapsed": false,
     "input": [
      "function midpoint(val)\n",
      "    convert(Int, val/2 + 1)\n",
      "end"
     ],
     "language": "python",
     "metadata": {},
     "outputs": [
      {
       "metadata": {},
       "output_type": "pyout",
       "prompt_number": 21,
       "text": [
        "midpoint (generic function with 1 method)"
       ]
      }
     ],
     "prompt_number": 21
    },
    {
     "cell_type": "code",
     "collapsed": false,
     "input": [
      "function normalize_ni(ni_data)\n",
      "    raw = ni_data.raw\n",
      "    raw_norm = raw - minimum(raw)\n",
      "    raw_norm /= maximum(raw_norm)\n",
      "    raw_norm\n",
      "end\n"
     ],
     "language": "python",
     "metadata": {},
     "outputs": [
      {
       "metadata": {},
       "output_type": "pyout",
       "prompt_number": 22,
       "text": [
        "normalize_ni (generic function with 1 method)"
       ]
      }
     ],
     "prompt_number": 22
    },
    {
     "cell_type": "code",
     "collapsed": false,
     "input": [
      "function display_brain_centers(ni_data)\n",
      "    ni_size = size(ni_data)\n",
      "    center_slice_1 = squeeze(ni_data[midpoint(ni_size[1]),:,:], 1);\n",
      "    center_slice_2 = squeeze(ni_data[:,midpoint(ni_size[2]),:], 2);\n",
      "    center_slice_3 = squeeze(ni_data[:,:,midpoint(ni_size[3])], 3);\n",
      "\n",
      "    c = canvasgrid(2,2);\n",
      "    ops = [:pixelspacing => [1,1]]\n",
      "    display(c[1,1], center_slice_1; ops...)\n",
      "    display(c[1,2], center_slice_2; ops...)\n",
      "    imgc, imgslice = display(c[2,1], center_slice_3; ops...)\n",
      "    return imgc\n",
      "end"
     ],
     "language": "python",
     "metadata": {},
     "outputs": [
      {
       "metadata": {},
       "output_type": "pyout",
       "prompt_number": 23,
       "text": [
        "display_brain_centers (generic function with 1 method)"
       ]
      }
     ],
     "prompt_number": 23
    },
    {
     "cell_type": "code",
     "collapsed": false,
     "input": [
      "T1_ni = niread(\"samples/NC_03_T1.nii\");"
     ],
     "language": "python",
     "metadata": {},
     "outputs": [],
     "prompt_number": 24
    },
    {
     "cell_type": "code",
     "collapsed": false,
     "input": [
      "T1_data = normalize_ni(T1_ni);"
     ],
     "language": "python",
     "metadata": {},
     "outputs": [],
     "prompt_number": 25
    },
    {
     "cell_type": "code",
     "collapsed": false,
     "input": [
      "display_brain_centers(T1_data);"
     ],
     "language": "python",
     "metadata": {},
     "outputs": [],
     "prompt_number": 26
    },
    {
     "cell_type": "code",
     "collapsed": false,
     "input": [
      "mask_ni = niread(\"samples/NC_03_mask_brain.nii\");"
     ],
     "language": "python",
     "metadata": {},
     "outputs": [],
     "prompt_number": 27
    },
    {
     "cell_type": "code",
     "collapsed": false,
     "input": [
      "masked_data = normalize_ni(mask_ni);"
     ],
     "language": "python",
     "metadata": {},
     "outputs": [],
     "prompt_number": 28
    },
    {
     "cell_type": "code",
     "collapsed": false,
     "input": [
      "T1_masked = copy(T1_data);"
     ],
     "language": "python",
     "metadata": {},
     "outputs": [],
     "prompt_number": 29
    },
    {
     "cell_type": "code",
     "collapsed": false,
     "input": [
      "T1_masked[masked_data .== 0] = 0;"
     ],
     "language": "python",
     "metadata": {},
     "outputs": [],
     "prompt_number": 30
    },
    {
     "cell_type": "code",
     "collapsed": false,
     "input": [
      "canvas = display_brain_centers(T1_masked);"
     ],
     "language": "python",
     "metadata": {},
     "outputs": [],
     "prompt_number": 31
    },
    {
     "cell_type": "code",
     "collapsed": false,
     "input": [
      "function nonzero_1d_data(voxel_data)\n",
      "    data_1d = vec(voxel_data);\n",
      "    nonzero_data = filter((x)-> x > 0, data_1d);\n",
      "    data_float64 = map((x)-> convert(Float64, x), nonzero_data);\n",
      "    return data_float64\n",
      "end"
     ],
     "language": "python",
     "metadata": {},
     "outputs": [
      {
       "metadata": {},
       "output_type": "pyout",
       "prompt_number": 36,
       "text": [
        "nonzero_1d_data (generic function with 1 method)"
       ]
      }
     ],
     "prompt_number": 36
    },
    {
     "cell_type": "code",
     "collapsed": false,
     "input": [
      "T1_1D = nonzero_1d_data(T1_masked);"
     ],
     "language": "python",
     "metadata": {},
     "outputs": [],
     "prompt_number": 39
    },
    {
     "cell_type": "code",
     "collapsed": false,
     "input": [
      "p = plot(x=T1_1D, Geom.histogram(bincount=10))"
     ],
     "language": "python",
     "metadata": {},
     "outputs": [
      {
       "html": [
        "<div id=\"gadflyplot-FBHCw9KnphWOsa8C1kRd\"></div>\n",
        "<script>\n",
        "(function (module) {\n",
        "function draw_with_data(data, parent_id) {\n",
        "  var g = d3.select(parent_id)\n",
        "            .append(\"svg\")\n",
        "              .attr(\"width\", \"120mm\")\n",
        "              .attr(\"height\", \"80mm\")\n",
        "              .attr(\"viewBox\", \"0 0 120 80\")\n",
        "              .attr(\"stroke-width\", \"0.5\")\n",
        "              .attr(\"style\", \"stroke:black;fill:black\");\n",
        "  g.append(\"defs\");\n",
        "  var ctx = {\n",
        "      \"scale\": 1.0,\n",
        "      \"tx\": 0.0,\n",
        "      \"ty\": 0.0\n",
        "  };\n",
        "(function (g) {\n",
        "  g.attr(\"stroke\", \"none\")\n",
        "   .attr(\"fill\", \"#000000\")\n",
        "   .attr(\"stroke-width\", 0.3)\n",
        "   .attr(\"font-family\", \"Helvetic,Arial,sans\")\n",
        "   .style(\"font-size\", \"3.88px\");\n",
        "  (function (g) {\n",
        "    g.attr(\"class\", \"plotroot xscalable\");\n",
        "    (function (g) {\n",
        "      g.attr(\"stroke\", \"none\")\n",
        "       .attr(\"fill\", \"#4C404B\")\n",
        "       .attr(\"font-family\", \"'PT Sans','Helvetica Neue','Helvetica',sans-serif\")\n",
        "       .style(\"font-size\", \"3.18px\")\n",
        "       .attr(\"class\", \"guide ylabels\");\n",
        "      (function (g) {\n",
        "        g.attr(\"visibility\", \"hidden\");\n",
        "        g.append(\"svg:text\")\n",
        "           .attr(\"x\", 27.17)\n",
        "           .attr(\"y\", 125.67)\n",
        "           .attr(\"text-anchor\", \"end\")\n",
        "           .style(\"dominant-baseline\", \"central\")\n",
        "            .call(function(text) {\n",
        "      text.append(\"tspan\").text(\"-4\u00d710\")\n",
        "          .append(\"tspan\")\n",
        "            .attr(\"dy\", \"-1ex\")\n",
        "          .call(function(text) {\n",
        "            text.text(\"5\");\n",
        "          })\n",
        ".append(\"tspan\").attr(\"font-style\", \"normal\")          ;\n",
        "    })\n",
        ";\n",
        "      }(g.append(\"g\")));\n",
        "      g.append(\"svg:text\")\n",
        "         .attr(\"x\", 27.17)\n",
        "         .attr(\"y\", 23.55)\n",
        "         .attr(\"text-anchor\", \"end\")\n",
        "         .style(\"dominant-baseline\", \"central\")\n",
        "         .call(function(text) {\n",
        "     text.append(\"tspan\").text(\"2\u00d710\")\n",
        "         .append(\"tspan\")\n",
        "           .attr(\"dy\", \"-1ex\")\n",
        "         .call(function(text) {\n",
        "           text.text(\"5\");\n",
        "         })\n",
        ".append(\"tspan\").attr(\"font-style\", \"normal\")         ;\n",
        "   })\n",
        ";\n",
        "      g.append(\"svg:text\")\n",
        "         .attr(\"x\", 27.17)\n",
        "         .attr(\"y\", 40.57)\n",
        "         .attr(\"text-anchor\", \"end\")\n",
        "         .style(\"dominant-baseline\", \"central\")\n",
        "         .call(function(text) {\n",
        "     text.append(\"tspan\").text(\"1\u00d710\")\n",
        "         .append(\"tspan\")\n",
        "           .attr(\"dy\", \"-1ex\")\n",
        "         .call(function(text) {\n",
        "           text.text(\"5\");\n",
        "         })\n",
        ".append(\"tspan\").attr(\"font-style\", \"normal\")         ;\n",
        "   })\n",
        ";\n",
        "      (function (g) {\n",
        "        g.attr(\"visibility\", \"hidden\");\n",
        "        g.append(\"svg:text\")\n",
        "           .attr(\"x\", 27.17)\n",
        "           .attr(\"y\", -44.53)\n",
        "           .attr(\"text-anchor\", \"end\")\n",
        "           .style(\"dominant-baseline\", \"central\")\n",
        "            .call(function(text) {\n",
        "      text.append(\"tspan\").text(\"6\u00d710\")\n",
        "          .append(\"tspan\")\n",
        "            .attr(\"dy\", \"-1ex\")\n",
        "          .call(function(text) {\n",
        "            text.text(\"5\");\n",
        "          })\n",
        ".append(\"tspan\").attr(\"font-style\", \"normal\")          ;\n",
        "    })\n",
        ";\n",
        "      }(g.append(\"g\")));\n",
        "      (function (g) {\n",
        "        g.attr(\"visibility\", \"hidden\");\n",
        "        g.append(\"svg:text\")\n",
        "           .attr(\"x\", 27.17)\n",
        "           .attr(\"y\", 108.65)\n",
        "           .attr(\"text-anchor\", \"end\")\n",
        "           .style(\"dominant-baseline\", \"central\")\n",
        "            .call(function(text) {\n",
        "      text.append(\"tspan\").text(\"-3\u00d710\")\n",
        "          .append(\"tspan\")\n",
        "            .attr(\"dy\", \"-1ex\")\n",
        "          .call(function(text) {\n",
        "            text.text(\"5\");\n",
        "          })\n",
        ".append(\"tspan\").attr(\"font-style\", \"normal\")          ;\n",
        "    })\n",
        ";\n",
        "      }(g.append(\"g\")));\n",
        "      (function (g) {\n",
        "        g.attr(\"visibility\", \"hidden\");\n",
        "        g.append(\"svg:text\")\n",
        "           .attr(\"x\", 27.17)\n",
        "           .attr(\"y\", 74.61)\n",
        "           .attr(\"text-anchor\", \"end\")\n",
        "           .style(\"dominant-baseline\", \"central\")\n",
        "            .call(function(text) {\n",
        "      text.append(\"tspan\").text(\"-1\u00d710\")\n",
        "          .append(\"tspan\")\n",
        "            .attr(\"dy\", \"-1ex\")\n",
        "          .call(function(text) {\n",
        "            text.text(\"5\");\n",
        "          })\n",
        ".append(\"tspan\").attr(\"font-style\", \"normal\")          ;\n",
        "    })\n",
        ";\n",
        "      }(g.append(\"g\")));\n",
        "      (function (g) {\n",
        "        g.attr(\"visibility\", \"hidden\");\n",
        "        g.append(\"svg:text\")\n",
        "           .attr(\"x\", 27.17)\n",
        "           .attr(\"y\", -61.55)\n",
        "           .attr(\"text-anchor\", \"end\")\n",
        "           .style(\"dominant-baseline\", \"central\")\n",
        "            .call(function(text) {\n",
        "      text.append(\"tspan\").text(\"7\u00d710\")\n",
        "          .append(\"tspan\")\n",
        "            .attr(\"dy\", \"-1ex\")\n",
        "          .call(function(text) {\n",
        "            text.text(\"5\");\n",
        "          })\n",
        ".append(\"tspan\").attr(\"font-style\", \"normal\")          ;\n",
        "    })\n",
        ";\n",
        "      }(g.append(\"g\")));\n",
        "      (function (g) {\n",
        "        g.attr(\"visibility\", \"hidden\");\n",
        "        g.append(\"svg:text\")\n",
        "           .attr(\"x\", 27.17)\n",
        "           .attr(\"y\", 91.63)\n",
        "           .attr(\"text-anchor\", \"end\")\n",
        "           .style(\"dominant-baseline\", \"central\")\n",
        "            .call(function(text) {\n",
        "      text.append(\"tspan\").text(\"-2\u00d710\")\n",
        "          .append(\"tspan\")\n",
        "            .attr(\"dy\", \"-1ex\")\n",
        "          .call(function(text) {\n",
        "            text.text(\"5\");\n",
        "          })\n",
        ".append(\"tspan\").attr(\"font-style\", \"normal\")          ;\n",
        "    })\n",
        ";\n",
        "      }(g.append(\"g\")));\n",
        "      (function (g) {\n",
        "        g.attr(\"visibility\", \"hidden\");\n",
        "        g.append(\"svg:text\")\n",
        "           .attr(\"x\", 27.17)\n",
        "           .attr(\"y\", -10.49)\n",
        "           .attr(\"text-anchor\", \"end\")\n",
        "           .style(\"dominant-baseline\", \"central\")\n",
        "            .call(function(text) {\n",
        "      text.append(\"tspan\").text(\"4\u00d710\")\n",
        "          .append(\"tspan\")\n",
        "            .attr(\"dy\", \"-1ex\")\n",
        "          .call(function(text) {\n",
        "            text.text(\"5\");\n",
        "          })\n",
        ".append(\"tspan\").attr(\"font-style\", \"normal\")          ;\n",
        "    })\n",
        ";\n",
        "      }(g.append(\"g\")));\n",
        "      g.append(\"svg:text\")\n",
        "         .attr(\"x\", 27.17)\n",
        "         .attr(\"y\", 57.59)\n",
        "         .attr(\"text-anchor\", \"end\")\n",
        "         .style(\"dominant-baseline\", \"central\")\n",
        "         .call(function(text) {\n",
        "     text.text(\"0\");\n",
        "   })\n",
        ";\n",
        "      g.append(\"svg:text\")\n",
        "         .attr(\"x\", 27.17)\n",
        "         .attr(\"y\", 6.53)\n",
        "         .attr(\"text-anchor\", \"end\")\n",
        "         .style(\"dominant-baseline\", \"central\")\n",
        "         .call(function(text) {\n",
        "     text.append(\"tspan\").text(\"3\u00d710\")\n",
        "         .append(\"tspan\")\n",
        "           .attr(\"dy\", \"-1ex\")\n",
        "         .call(function(text) {\n",
        "           text.text(\"5\");\n",
        "         })\n",
        ".append(\"tspan\").attr(\"font-style\", \"normal\")         ;\n",
        "   })\n",
        ";\n",
        "      (function (g) {\n",
        "        g.attr(\"visibility\", \"hidden\");\n",
        "        g.append(\"svg:text\")\n",
        "           .attr(\"x\", 27.17)\n",
        "           .attr(\"y\", -27.51)\n",
        "           .attr(\"text-anchor\", \"end\")\n",
        "           .style(\"dominant-baseline\", \"central\")\n",
        "            .call(function(text) {\n",
        "      text.append(\"tspan\").text(\"5\u00d710\")\n",
        "          .append(\"tspan\")\n",
        "            .attr(\"dy\", \"-1ex\")\n",
        "          .call(function(text) {\n",
        "            text.text(\"5\");\n",
        "          })\n",
        ".append(\"tspan\").attr(\"font-style\", \"normal\")          ;\n",
        "    })\n",
        ";\n",
        "      }(g.append(\"g\")));\n",
        "    }(g.append(\"g\")));\n",
        "    (function (g) {\n",
        "      g.attr(\"stroke\", \"none\")\n",
        "       .attr(\"fill\", \"#4C404B\")\n",
        "       .attr(\"font-family\", \"'PT Sans','Helvetica Neue','Helvetica',sans-serif\")\n",
        "       .style(\"font-size\", \"3.18px\")\n",
        "       .attr(\"class\", \"guide xlabels\");\n",
        "      (function (g) {\n",
        "        g.attr(\"visibility\", \"hidden\");\n",
        "        g.append(\"svg:text\")\n",
        "           .attr(\"x\", 194.46)\n",
        "           .attr(\"y\", 65.06)\n",
        "           .attr(\"text-anchor\", \"middle\")\n",
        "            .call(function(text) {\n",
        "      text.text(\"1.6\");\n",
        "    })\n",
        ";\n",
        "      }(g.append(\"g\")));\n",
        "      (function (g) {\n",
        "        g.attr(\"visibility\", \"hidden\");\n",
        "        g.append(\"svg:text\")\n",
        "           .attr(\"x\", -10.33)\n",
        "           .attr(\"y\", 65.06)\n",
        "           .attr(\"text-anchor\", \"middle\")\n",
        "            .call(function(text) {\n",
        "      text.text(\"-0.4\");\n",
        "    })\n",
        ";\n",
        "      }(g.append(\"g\")));\n",
        "      (function (g) {\n",
        "        g.attr(\"visibility\", \"hidden\");\n",
        "        g.append(\"svg:text\")\n",
        "           .attr(\"x\", 133.02)\n",
        "           .attr(\"y\", 65.06)\n",
        "           .attr(\"text-anchor\", \"middle\")\n",
        "            .call(function(text) {\n",
        "      text.text(\"1.0\");\n",
        "    })\n",
        ";\n",
        "      }(g.append(\"g\")));\n",
        "      g.append(\"svg:text\")\n",
        "         .attr(\"x\", 71.58)\n",
        "         .attr(\"y\", 65.06)\n",
        "         .attr(\"text-anchor\", \"middle\")\n",
        "         .call(function(text) {\n",
        "     text.text(\"0.4\");\n",
        "   })\n",
        ";\n",
        "      (function (g) {\n",
        "        g.attr(\"visibility\", \"hidden\");\n",
        "        g.append(\"svg:text\")\n",
        "           .attr(\"x\", -51.29)\n",
        "           .attr(\"y\", 65.06)\n",
        "           .attr(\"text-anchor\", \"middle\")\n",
        "            .call(function(text) {\n",
        "      text.text(\"-0.8\");\n",
        "    })\n",
        ";\n",
        "      }(g.append(\"g\")));\n",
        "      g.append(\"svg:text\")\n",
        "         .attr(\"x\", 112.54)\n",
        "         .attr(\"y\", 65.06)\n",
        "         .attr(\"text-anchor\", \"middle\")\n",
        "         .call(function(text) {\n",
        "     text.text(\"0.8\");\n",
        "   })\n",
        ";\n",
        "      (function (g) {\n",
        "        g.attr(\"visibility\", \"hidden\");\n",
        "        g.append(\"svg:text\")\n",
        "           .attr(\"x\", -30.81)\n",
        "           .attr(\"y\", 65.06)\n",
        "           .attr(\"text-anchor\", \"middle\")\n",
        "            .call(function(text) {\n",
        "      text.text(\"-0.6\");\n",
        "    })\n",
        ";\n",
        "      }(g.append(\"g\")));\n",
        "      g.append(\"svg:text\")\n",
        "         .attr(\"x\", 51.1)\n",
        "         .attr(\"y\", 65.06)\n",
        "         .attr(\"text-anchor\", \"middle\")\n",
        "         .call(function(text) {\n",
        "     text.text(\"0.2\");\n",
        "   })\n",
        ";\n",
        "      (function (g) {\n",
        "        g.attr(\"visibility\", \"hidden\");\n",
        "        g.append(\"svg:text\")\n",
        "           .attr(\"x\", 173.98)\n",
        "           .attr(\"y\", 65.06)\n",
        "           .attr(\"text-anchor\", \"middle\")\n",
        "            .call(function(text) {\n",
        "      text.text(\"1.4\");\n",
        "    })\n",
        ";\n",
        "      }(g.append(\"g\")));\n",
        "      g.append(\"svg:text\")\n",
        "         .attr(\"x\", 92.06)\n",
        "         .attr(\"y\", 65.06)\n",
        "         .attr(\"text-anchor\", \"middle\")\n",
        "         .call(function(text) {\n",
        "     text.text(\"0.6\");\n",
        "   })\n",
        ";\n",
        "      (function (g) {\n",
        "        g.attr(\"visibility\", \"hidden\");\n",
        "        g.append(\"svg:text\")\n",
        "           .attr(\"x\", 214.94)\n",
        "           .attr(\"y\", 65.06)\n",
        "           .attr(\"text-anchor\", \"middle\")\n",
        "            .call(function(text) {\n",
        "      text.text(\"1.8\");\n",
        "    })\n",
        ";\n",
        "      }(g.append(\"g\")));\n",
        "      g.append(\"svg:text\")\n",
        "         .attr(\"x\", 30.62)\n",
        "         .attr(\"y\", 65.06)\n",
        "         .attr(\"text-anchor\", \"middle\")\n",
        "         .call(function(text) {\n",
        "     text.text(\"0.0\");\n",
        "   })\n",
        ";\n",
        "      (function (g) {\n",
        "        g.attr(\"visibility\", \"hidden\");\n",
        "        g.append(\"svg:text\")\n",
        "           .attr(\"x\", 153.5)\n",
        "           .attr(\"y\", 65.06)\n",
        "           .attr(\"text-anchor\", \"middle\")\n",
        "            .call(function(text) {\n",
        "      text.text(\"1.2\");\n",
        "    })\n",
        ";\n",
        "      }(g.append(\"g\")));\n",
        "      (function (g) {\n",
        "        g.attr(\"visibility\", \"hidden\");\n",
        "        g.append(\"svg:text\")\n",
        "           .attr(\"x\", 10.14)\n",
        "           .attr(\"y\", 65.06)\n",
        "           .attr(\"text-anchor\", \"middle\")\n",
        "            .call(function(text) {\n",
        "      text.text(\"-0.2\");\n",
        "    })\n",
        ";\n",
        "      }(g.append(\"g\")));\n",
        "      (function (g) {\n",
        "        g.attr(\"visibility\", \"hidden\");\n",
        "        g.append(\"svg:text\")\n",
        "           .attr(\"x\", -71.77)\n",
        "           .attr(\"y\", 65.06)\n",
        "           .attr(\"text-anchor\", \"middle\")\n",
        "            .call(function(text) {\n",
        "      text.text(\"-1.0\");\n",
        "    })\n",
        ";\n",
        "      }(g.append(\"g\")));\n",
        "    }(g.append(\"g\")));\n",
        "    (function (g) {\n",
        "      g.attr(\"stroke\", \"none\")\n",
        "       .attr(\"fill\", \"#362A35\")\n",
        "       .attr(\"font-family\", \"'PT Sans','Helvetica Neue','Helvetica',sans-serif\")\n",
        "       .style(\"font-size\", \"3.88px\");\n",
        "      g.append(\"svg:text\")\n",
        "         .attr(\"x\", 71.58)\n",
        "         .attr(\"y\", 73)\n",
        "         .attr(\"text-anchor\", \"middle\")\n",
        "         .call(function(text) {\n",
        "     text.text(\"x\");\n",
        "   })\n",
        ";\n",
        "    }(g.append(\"g\")));\n",
        "    (function (g) {\n",
        "      g.on(\"mouseover\", guide_background_mouseover(\"#C6C6C9\"))\n",
        "       .on(\"mouseout\", guide_background_mouseout(\"#F0F0F3\"))\n",
        "       .call(zoom_behavior(ctx))\n",
        ";\n",
        "      (function (g) {\n",
        "        d3.select(\"defs\")\n",
        "  .append(\"svg:clipPath\")\n",
        "    .attr(\"id\", parent_id + \"_clippath0\")\n",
        "    .append(\"svg:path\")\n",
        "      .attr(\"d\", \" M28.17,5 L 115 5 115 59.12 28.17 59.12 z\");g.attr(\"clip-path\", \"url(#\" + parent_id + \"_clippath0)\");\n",
        "        (function (g) {\n",
        "          g.attr(\"class\", \"guide background\")\n",
        "           .attr(\"stroke\", \"#F1F1F5\")\n",
        "           .attr(\"fill\", \"#FAFAFA\")\n",
        "           .attr(\"opacity\", 1.00);\n",
        "          g.append(\"svg:path\")\n",
        "             .attr(\"d\", \"M28.17,5 L 115 5 115 59.12 28.17 59.12 z\");\n",
        "        }(g.append(\"g\")));\n",
        "        (function (g) {\n",
        "          g.attr(\"stroke\", \"#F0F0F3\")\n",
        "           .attr(\"stroke-width\", 0.2)\n",
        "           .attr(\"class\", \"guide ygridlines xfixed\");\n",
        "          g.append(\"svg:path\")\n",
        "             .attr(\"d\", \"M28.17,23.55 L 115 23.55\");\n",
        "          g.append(\"svg:path\")\n",
        "             .attr(\"d\", \"M28.17,-44.53 L 115 -44.53\");\n",
        "          g.append(\"svg:path\")\n",
        "             .attr(\"d\", \"M28.17,74.61 L 115 74.61\");\n",
        "          g.append(\"svg:path\")\n",
        "             .attr(\"d\", \"M28.17,91.63 L 115 91.63\");\n",
        "          g.append(\"svg:path\")\n",
        "             .attr(\"d\", \"M28.17,57.59 L 115 57.59\");\n",
        "          g.append(\"svg:path\")\n",
        "             .attr(\"d\", \"M28.17,-27.51 L 115 -27.51\");\n",
        "          g.append(\"svg:path\")\n",
        "             .attr(\"d\", \"M28.17,6.53 L 115 6.53\");\n",
        "          g.append(\"svg:path\")\n",
        "             .attr(\"d\", \"M28.17,-10.49 L 115 -10.49\");\n",
        "          g.append(\"svg:path\")\n",
        "             .attr(\"d\", \"M28.17,-61.55 L 115 -61.55\");\n",
        "          g.append(\"svg:path\")\n",
        "             .attr(\"d\", \"M28.17,108.65 L 115 108.65\");\n",
        "          g.append(\"svg:path\")\n",
        "             .attr(\"d\", \"M28.17,40.57 L 115 40.57\");\n",
        "          g.append(\"svg:path\")\n",
        "             .attr(\"d\", \"M28.17,125.67 L 115 125.67\");\n",
        "        }(g.append(\"g\")));\n",
        "        (function (g) {\n",
        "          g.attr(\"stroke\", \"#F0F0F3\")\n",
        "           .attr(\"stroke-width\", 0.2)\n",
        "           .attr(\"class\", \"guide xgridlines yfixed\");\n",
        "          g.append(\"svg:path\")\n",
        "             .attr(\"d\", \"M-10.33,5 L -10.33 59.12\");\n",
        "          g.append(\"svg:path\")\n",
        "             .attr(\"d\", \"M71.58,5 L 71.58 59.12\");\n",
        "          g.append(\"svg:path\")\n",
        "             .attr(\"d\", \"M112.54,5 L 112.54 59.12\");\n",
        "          g.append(\"svg:path\")\n",
        "             .attr(\"d\", \"M51.1,5 L 51.1 59.12\");\n",
        "          g.append(\"svg:path\")\n",
        "             .attr(\"d\", \"M92.06,5 L 92.06 59.12\");\n",
        "          g.append(\"svg:path\")\n",
        "             .attr(\"d\", \"M30.62,5 L 30.62 59.12\");\n",
        "          g.append(\"svg:path\")\n",
        "             .attr(\"d\", \"M10.14,5 L 10.14 59.12\");\n",
        "          g.append(\"svg:path\")\n",
        "             .attr(\"d\", \"M-71.77,5 L -71.77 59.12\");\n",
        "          g.append(\"svg:path\")\n",
        "             .attr(\"d\", \"M153.5,5 L 153.5 59.12\");\n",
        "          g.append(\"svg:path\")\n",
        "             .attr(\"d\", \"M214.94,5 L 214.94 59.12\");\n",
        "          g.append(\"svg:path\")\n",
        "             .attr(\"d\", \"M173.98,5 L 173.98 59.12\");\n",
        "          g.append(\"svg:path\")\n",
        "             .attr(\"d\", \"M-30.81,5 L -30.81 59.12\");\n",
        "          g.append(\"svg:path\")\n",
        "             .attr(\"d\", \"M-51.29,5 L -51.29 59.12\");\n",
        "          g.append(\"svg:path\")\n",
        "             .attr(\"d\", \"M133.02,5 L 133.02 59.12\");\n",
        "          g.append(\"svg:path\")\n",
        "             .attr(\"d\", \"M194.46,5 L 194.46 59.12\");\n",
        "        }(g.append(\"g\")));\n",
        "      }(g.append(\"g\")));\n",
        "      (function (g) {\n",
        "        d3.select(\"defs\")\n",
        "  .append(\"svg:clipPath\")\n",
        "    .attr(\"id\", parent_id + \"_clippath1\")\n",
        "    .append(\"svg:path\")\n",
        "      .attr(\"d\", \" M28.17,5 L 115 5 115 59.12 28.17 59.12 z\");g.attr(\"clip-path\", \"url(#\" + parent_id + \"_clippath1)\");\n",
        "        (function (g) {\n",
        "          g.attr(\"class\", \"plotpanel\");\n",
        "          (function (g) {\n",
        "            g.attr(\"shape-rendering\", \"crispEdges\")\n",
        "             .attr(\"fill\", \"#00BFFF\")\n",
        "             .attr(\"stroke\", \"none\");\n",
        "            (function (g) {\n",
        "              g.attr(\"id\", \"id9\")\n",
        "               .attr(\"class\", \"geometry\");\n",
        "              g.append(\"svg:path\")\n",
        "                 .attr(\"d\", \"M87.04,57.59 L 92.54 57.59 92.54 57.23 87.04 57.23 z\");\n",
        "            }(g.append(\"g\")));\n",
        "            (function (g) {\n",
        "              g.attr(\"id\", \"id7\")\n",
        "               .attr(\"class\", \"geometry\");\n",
        "              g.append(\"svg:path\")\n",
        "                 .attr(\"d\", \"M76.05,57.59 L 81.55 57.59 81.55 25.02 76.05 25.02 z\");\n",
        "            }(g.append(\"g\")));\n",
        "            (function (g) {\n",
        "              g.attr(\"id\", \"id5\")\n",
        "               .attr(\"class\", \"geometry\");\n",
        "              g.append(\"svg:path\")\n",
        "                 .attr(\"d\", \"M65.06,57.59 L 70.56 57.59 70.56 21.8 65.06 21.8 z\");\n",
        "            }(g.append(\"g\")));\n",
        "            (function (g) {\n",
        "              g.attr(\"id\", \"id3\")\n",
        "               .attr(\"class\", \"geometry\");\n",
        "              g.append(\"svg:path\")\n",
        "                 .attr(\"d\", \"M54.07,57.59 L 59.57 57.59 59.57 25.26 54.07 25.26 z\");\n",
        "            }(g.append(\"g\")));\n",
        "            (function (g) {\n",
        "              g.attr(\"id\", \"id1\")\n",
        "               .attr(\"class\", \"geometry\");\n",
        "              g.append(\"svg:path\")\n",
        "                 .attr(\"d\", \"M43.08,57.59 L 48.58 57.59 48.58 42.43 43.08 42.43 z\");\n",
        "            }(g.append(\"g\")));\n",
        "            (function (g) {\n",
        "              g.attr(\"id\", \"id0\")\n",
        "               .attr(\"class\", \"geometry\");\n",
        "              g.append(\"svg:path\")\n",
        "                 .attr(\"d\", \"M37.59,57.59 L 43.08 57.59 43.08 56.83 37.59 56.83 z\");\n",
        "            }(g.append(\"g\")));\n",
        "            (function (g) {\n",
        "              g.attr(\"id\", \"id2\")\n",
        "               .attr(\"class\", \"geometry\");\n",
        "              g.append(\"svg:path\")\n",
        "                 .attr(\"d\", \"M48.58,57.59 L 54.07 57.59 54.07 39.2 48.58 39.2 z\");\n",
        "            }(g.append(\"g\")));\n",
        "            (function (g) {\n",
        "              g.attr(\"id\", \"id4\")\n",
        "               .attr(\"class\", \"geometry\");\n",
        "              g.append(\"svg:path\")\n",
        "                 .attr(\"d\", \"M59.57,57.59 L 65.06 57.59 65.06 8.93 59.57 8.93 z\");\n",
        "            }(g.append(\"g\")));\n",
        "            (function (g) {\n",
        "              g.attr(\"id\", \"id6\")\n",
        "               .attr(\"class\", \"geometry\");\n",
        "              g.append(\"svg:path\")\n",
        "                 .attr(\"d\", \"M70.56,57.59 L 76.05 57.59 76.05 30.58 70.56 30.58 z\");\n",
        "            }(g.append(\"g\")));\n",
        "            (function (g) {\n",
        "              g.attr(\"id\", \"id8\")\n",
        "               .attr(\"class\", \"geometry\");\n",
        "              g.append(\"svg:path\")\n",
        "                 .attr(\"d\", \"M81.55,57.59 L 87.04 57.59 87.04 44.94 81.55 44.94 z\");\n",
        "            }(g.append(\"g\")));\n",
        "          }(g.append(\"g\")));\n",
        "        }(g.append(\"g\")));\n",
        "      }(g.append(\"g\")));\n",
        "      (function (g) {\n",
        "        d3.select(\"defs\")\n",
        "  .append(\"svg:clipPath\")\n",
        "    .attr(\"id\", parent_id + \"_clippath2\")\n",
        "    .append(\"svg:path\")\n",
        "      .attr(\"d\", \" M28.17,5 L 115 5 115 59.12 28.17 59.12 z\");g.attr(\"clip-path\", \"url(#\" + parent_id + \"_clippath2)\");\n",
        "        (function (g) {\n",
        "          g.attr(\"stroke\", \"none\")\n",
        "           .attr(\"class\", \"guide zoomslider\")\n",
        "           .attr(\"opacity\", 0.00);\n",
        "          (function (g) {\n",
        "            g.attr(\"stroke\", \"#6A6A6A\")\n",
        "             .attr(\"stroke-opacity\", 0.00)\n",
        "             .attr(\"stroke-width\", 0.3)\n",
        "             .attr(\"fill\", \"#EAEAEA\")\n",
        "             .on(\"click\", zoomin_behavior(ctx))\n",
        ".on(\"dblclick\", function() { d3.event.stopPropagation(); })\n",
        ".on(\"mouseover\", zoomslider_button_mouseover(\"#cd5c5c\"))\n",
        ".on(\"mouseout\", zoomslider_button_mouseover(\"#6a6a6a\"))\n",
        ";\n",
        "            g.append(\"svg:path\")\n",
        "               .attr(\"d\", \"M108,8 L 112 8 112 12 108 12 z\");\n",
        "            (function (g) {\n",
        "              g.attr(\"fill\", \"#6A6A6A\")\n",
        "               .attr(\"class\", \"button_logo\");\n",
        "              g.append(\"svg:path\")\n",
        "                 .attr(\"d\", \"M108.8,9.6 L 109.6 9.6 109.6 8.8 110.4 8.8 110.4 9.6 111.2 9.6 111.2 10.4 110.4 10.4 110.4 11.2 109.6 11.2 109.6 10.4 108.8 10.4 z\");\n",
        "            }(g.append(\"g\")));\n",
        "          }(g.append(\"g\")));\n",
        "          (function (g) {\n",
        "            g.attr(\"fill\", \"#EAEAEA\")\n",
        "             .on(\"click\", zoomslider_track_behavior(ctx, 82, 99));\n",
        "            g.append(\"svg:path\")\n",
        "               .attr(\"d\", \"M88.5,8 L 107.5 8 107.5 12 88.5 12 z\");\n",
        "          }(g.append(\"g\")));\n",
        "          (function (g) {\n",
        "            g.attr(\"fill\", \"#6A6A6A\")\n",
        "             .attr(\"class\", \"zoomslider_thumb\")\n",
        "             .call(zoomslider_behavior(ctx, 82, 99))\n",
        ".on(\"mouseover\", zoomslider_thumb_mouseover(\"#cd5c5c\"))\n",
        ".on(\"mouseout\", zoomslider_thumb_mouseover(\"#6a6a6a\"))\n",
        ";\n",
        "            g.append(\"svg:path\")\n",
        "               .attr(\"d\", \"M97,8 L 99 8 99 12 97 12 z\");\n",
        "          }(g.append(\"g\")));\n",
        "          (function (g) {\n",
        "            g.attr(\"stroke\", \"#6A6A6A\")\n",
        "             .attr(\"stroke-opacity\", 0.00)\n",
        "             .attr(\"stroke-width\", 0.3)\n",
        "             .attr(\"fill\", \"#EAEAEA\")\n",
        "             .on(\"click\", zoomout_behavior(ctx))\n",
        ".on(\"dblclick\", function() { d3.event.stopPropagation(); })\n",
        ".on(\"mouseover\", zoomslider_button_mouseover(\"#cd5c5c\"))\n",
        ".on(\"mouseout\", zoomslider_button_mouseover(\"#6a6a6a\"))\n",
        ";\n",
        "            g.append(\"svg:path\")\n",
        "               .attr(\"d\", \"M84,8 L 88 8 88 12 84 12 z\");\n",
        "            (function (g) {\n",
        "              g.attr(\"fill\", \"#6A6A6A\")\n",
        "               .attr(\"class\", \"button_logo\");\n",
        "              g.append(\"svg:path\")\n",
        "                 .attr(\"d\", \"M84.8,9.6 L 87.2 9.6 87.2 10.4 84.8 10.4 z\");\n",
        "            }(g.append(\"g\")));\n",
        "          }(g.append(\"g\")));\n",
        "        }(g.append(\"g\")));\n",
        "      }(g.append(\"g\")));\n",
        "    }(g.append(\"g\")));\n",
        "  }(g.append(\"g\")));\n",
        "}(g.append(\"g\")));\n",
        "    d3.select(parent_id)\n",
        "      .selectAll(\"path\")\n",
        "      .each(function() {\n",
        "          var sw = parseFloat(window.getComputedStyle(this).getPropertyValue(\"stroke-width\"));\n",
        "          d3.select(this)\n",
        "            .attr(\"vector-effect\", \"non-scaling-stroke\")\n",
        "            .style(\"stroke-width\", sw + \"mm\");\n",
        "      });\n",
        "}\n",
        "\n",
        "var data = [\n",
        "];\n",
        "\n",
        "var draw = function(parent_id) {\n",
        "    draw_with_data(data, parent_id);\n",
        "};\n",
        "\n",
        "if ('undefined' !== typeof module) {\n",
        "    module.exports = draw;\n",
        "} else if ('undefined' !== typeof window) {\n",
        "    window.draw = draw\n",
        "}\n",
        "\n",
        "return module;\n",
        "})({}).exports(\"#gadflyplot-FBHCw9KnphWOsa8C1kRd\");\n",
        "//@ sourceURL=gadflyplot-FBHCw9KnphWOsa8C1kRd.js\n",
        "</script>\n"
       ],
       "metadata": {},
       "output_type": "display_data",
       "text": [
        "D3(120.0,80.0,IOBuffer([0x66,0x75,0x6e,0x63,0x74,0x69,0x6f,0x6e,0x20,0x64  \u2026  0x20,0x3d,0x20,0x64,0x72,0x61,0x77,0x0a,0x7d,0x0a],true,true,true,false,21071,9223372036854775807,21072),0,[],[],0,3,Dict{Uint64,(Any,Int64)}(),true,false,nothing,true)"
       ]
      },
      {
       "html": [],
       "metadata": {},
       "output_type": "pyout",
       "prompt_number": 40,
       "text": [
        "Plot(...)"
       ]
      },
      {
       "output_type": "stream",
       "stream": "stderr",
       "text": [
        "\n",
        "(process:20892): Pango-CRITICAL **: No modules found:\n",
        "No builtin or dynamically loaded modules were found.\n",
        "PangoFc will not work correctly.\n",
        "This probably means there was an error in the creation of:\n",
        "  '/usr/local/Cellar/pango/1.36.1/etc/pango/pango.modules'\n",
        "You should create this file by running:\n",
        "  pango-querymodules > '/usr/local/Cellar/pango/1.36.1/etc/pango/pango.modules'\n",
        "\n",
        "(process:20892): Pango-WARNING **: failed to choose a font, expect ugly output. engine-type='PangoRenderCoreText', script='common'\n",
        "\n",
        "(process:20892): Pango-WARNING **: failed to choose a font, expect ugly output. engine-type='PangoRenderCoreText', script='latin'\n"
       ]
      }
     ],
     "prompt_number": 40
    },
    {
     "cell_type": "code",
     "collapsed": false,
     "input": [
      "T1_masked_im = grayim(T1_masked)"
     ],
     "language": "python",
     "metadata": {},
     "outputs": [
      {
       "metadata": {},
       "output_type": "pyout",
       "prompt_number": 44,
       "text": [
        "Gray Image with:\n",
        "  data: 240x240x198 Array{Float32,3}\n",
        "  properties:\n",
        "    spatialorder:  x y z\n",
        "    colorspace: Gray"
       ]
      },
      {
       "output_type": "stream",
       "stream": "stderr",
       "text": [
        "2014-05-26 17:53:02.937 julia-basic[20892:507] CFURLCopyResourcePropertyForKey failed because it was passed this URL which has no scheme: \n",
        "2014-05-26 17:53:02.938 julia-basic[20892:507] CFURLCopyResourcePropertyForKey failed because it was passed this URL which has no scheme: \n"
       ]
      },
      {
       "output_type": "stream",
       "stream": "stderr",
       "text": [
        "2014-05-26 17:53:03.744 julia-basic[20892:507] CFURLCopyResourcePropertyForKey failed because it was passed this URL which has no scheme: \n",
        "2014-05-26 17:53:03.746 julia-basic[20892:507] CFURLCopyResourcePropertyForKey failed because it was passed this URL which has no scheme: \n"
       ]
      },
      {
       "output_type": "stream",
       "stream": "stderr",
       "text": [
        "2014-05-26 17:53:04.117 julia-basic[20892:507] CFURLCopyResourcePropertyForKey failed because it was passed this URL which has no scheme: \n",
        "2014-05-26 17:53:04.119 julia-basic[20892:507] CFURLCopyResourcePropertyForKey failed because it was passed this URL which has no scheme: \n"
       ]
      },
      {
       "output_type": "stream",
       "stream": "stderr",
       "text": [
        "2014-05-26 17:53:04.658 julia-basic[20892:507] CFURLCopyResourcePropertyForKey failed because it was passed this URL which has no scheme: \n",
        "2014-05-26 17:53:04.660 julia-basic[20892:507] CFURLCopyResourcePropertyForKey failed because it was passed this URL which has no scheme: \n"
       ]
      },
      {
       "output_type": "stream",
       "stream": "stderr",
       "text": [
        "2014-05-26 17:53:26.452 julia-basic[20892:507] CFURLCopyResourcePropertyForKey failed because it was passed this URL which has no scheme: \n",
        "2014-05-26 17:53:26.454 julia-basic[20892:507] CFURLCopyResourcePropertyForKey failed because it was passed this URL which has no scheme: \n"
       ]
      },
      {
       "output_type": "stream",
       "stream": "stderr",
       "text": [
        "2014-05-26 17:53:27.439 julia-basic[20892:507] CFURLCopyResourcePropertyForKey failed because it was passed this URL which has no scheme: \n",
        "2014-05-26 17:53:27.441 julia-basic[20892:507] CFURLCopyResourcePropertyForKey failed because it was passed this URL which has no scheme: \n"
       ]
      },
      {
       "output_type": "stream",
       "stream": "stderr",
       "text": [
        "2014-05-26 17:53:27.854 julia-basic[20892:507] CFURLCopyResourcePropertyForKey failed because it was passed this URL which has no scheme: \n",
        "2014-05-26 17:53:27.856 julia-basic[20892:507] CFURLCopyResourcePropertyForKey failed because it was passed this URL which has no scheme: \n"
       ]
      },
      {
       "output_type": "stream",
       "stream": "stderr",
       "text": [
        "2014-05-26 17:53:36.563 julia-basic[20892:507] CFURLCopyResourcePropertyForKey failed because it was passed this URL which has no scheme: \n",
        "2014-05-26 17:53:36.565 julia-basic[20892:507] CFURLCopyResourcePropertyForKey failed because it was passed this URL which has no scheme: \n",
        "2014-05-26 17:53:36.578 julia-basic[20892:507] CFURLCopyResourcePropertyForKey failed because it was passed this URL which has no scheme: \n",
        "2014-05-26 17:53:36.580 julia-basic[20892:507] CFURLCopyResourcePropertyForKey failed because it was passed this URL which has no scheme: \n",
        "2014-05-26 17:53:36.595 julia-basic[20892:507] CFURLCopyResourcePropertyForKey failed because it was passed this URL which has no scheme: \n",
        "2014-05-26 17:53:36.596 julia-basic[20892:507] CFURLCopyResourcePropertyForKey failed because it was passed this URL which has no scheme: \n"
       ]
      },
      {
       "output_type": "stream",
       "stream": "stderr",
       "text": [
        "2014-05-26 17:53:36.617 julia-basic[20892:507] CFURLCopyResourcePropertyForKey failed because it was passed this URL which has no scheme: \n",
        "2014-05-26 17:53:36.619 julia-basic[20892:507] CFURLCopyResourcePropertyForKey failed because it was passed this URL which has no scheme: \n",
        "2014-05-26 17:53:36.626 julia-basic[20892:507] CFURLCopyResourcePropertyForKey failed because it was passed this URL which has no scheme: \n",
        "2014-05-26 17:53:36.627 julia-basic[20892:507] CFURLCopyResourcePropertyForKey failed because it was passed this URL which has no scheme: \n",
        "2014-05-26 17:53:36.645 julia-basic[20892:507] CFURLCopyResourcePropertyForKey failed because it was passed this URL which has no scheme: \n",
        "2014-05-26 17:53:36.646 julia-basic[20892:507] CFURLCopyResourcePropertyForKey failed because it was passed this URL which has no scheme: \n",
        "2014-05-26 17:53:36.678 julia-basic[20892:507] CFURLCopyResourcePropertyForKey failed because it was passed this URL which has no scheme: \n",
        "2014-05-26 17:53:36.680 julia-basic[20892:507] CFURLCopyResourcePropertyForKey failed because it was passed this URL which has no scheme: \n",
        "2014-05-26 17:53:36.696 julia-basic[20892:507] CFURLCopyResourcePropertyForKey failed because it was passed this URL which has no scheme: \n",
        "2014-05-26 17:53:36.698 julia-basic[20892:507] CFURLCopyResourcePropertyForKey failed because it was passed this URL which has no scheme: \n",
        "2014-05-26 17:53:36.711 julia-basic[20892:507] CFURLCopyResourcePropertyForKey failed because it was passed this URL which has no scheme: \n",
        "2014-05-26 17:53:36.713 julia-basic[20892:507] CFURLCopyResourcePropertyForKey failed because it was passed this URL which has no scheme: \n",
        "2014-05-26 17:53:36.730 julia-basic[20892:507] CFURLCopyResourcePropertyForKey failed because it was passed this URL which has no scheme: \n",
        "2014-05-26 17:53:36.731 julia-basic[20892:507] CFURLCopyResourcePropertyForKey failed because it was passed this URL which has no scheme: \n"
       ]
      },
      {
       "output_type": "stream",
       "stream": "stderr",
       "text": [
        "2014-05-26 17:53:36.763 julia-basic[20892:507] CFURLCopyResourcePropertyForKey failed because it was passed this URL which has no scheme: \n",
        "2014-05-26 17:53:36.764 julia-basic[20892:507] CFURLCopyResourcePropertyForKey failed because it was passed this URL which has no scheme: \n",
        "2014-05-26 17:53:36.794 julia-basic[20892:507] CFURLCopyResourcePropertyForKey failed because it was passed this URL which has no scheme: \n",
        "2014-05-26 17:53:36.796 julia-basic[20892:507] CFURLCopyResourcePropertyForKey failed because it was passed this URL which has no scheme: \n"
       ]
      },
      {
       "output_type": "stream",
       "stream": "stderr",
       "text": [
        "2014-05-26 17:53:36.903 julia-basic[20892:507] CFURLCopyResourcePropertyForKey failed because it was passed this URL which has no scheme: \n",
        "2014-05-26 17:53:36.905 julia-basic[20892:507] CFURLCopyResourcePropertyForKey failed because it was passed this URL which has no scheme: \n",
        "2014-05-26 17:53:36.946 julia-basic[20892:507] CFURLCopyResourcePropertyForKey failed because it was passed this URL which has no scheme: \n",
        "2014-05-26 17:53:36.947 julia-basic[20892:507] CFURLCopyResourcePropertyForKey failed because it was passed this URL which has no scheme: \n"
       ]
      },
      {
       "output_type": "stream",
       "stream": "stderr",
       "text": [
        "2014-05-26 17:53:37.512 julia-basic[20892:507] CFURLCopyResourcePropertyForKey failed because it was passed this URL which has no scheme: \n",
        "2014-05-26 17:53:37.514 julia-basic[20892:507] CFURLCopyResourcePropertyForKey failed because it was passed this URL which has no scheme: \n",
        "2014-05-26 17:53:37.545 julia-basic[20892:507] CFURLCopyResourcePropertyForKey failed because it was passed this URL which has no scheme: \n",
        "2014-05-26 17:53:37.547 julia-basic[20892:507] CFURLCopyResourcePropertyForKey failed because it was passed this URL which has no scheme: \n",
        "2014-05-26 17:53:37.563 julia-basic[20892:507] CFURLCopyResourcePropertyForKey failed because it was passed this URL which has no scheme: \n",
        "2014-05-26 17:53:37.564 julia-basic[20892:507] CFURLCopyResourcePropertyForKey failed because it was passed this URL which has no scheme: \n",
        "2014-05-26 17:53:37.578 julia-basic[20892:507] CFURLCopyResourcePropertyForKey failed because it was passed this URL which has no scheme: \n",
        "2014-05-26 17:53:37.580 julia-basic[20892:507] CFURLCopyResourcePropertyForKey failed because it was passed this URL which has no scheme: \n",
        "2014-05-26 17:53:37.594 julia-basic[20892:507] CFURLCopyResourcePropertyForKey failed because it was passed this URL which has no scheme: \n",
        "2014-05-26 17:53:37.596 julia-basic[20892:507] CFURLCopyResourcePropertyForKey failed because it was passed this URL which has no scheme: \n",
        "2014-05-26 17:53:37.612 julia-basic[20892:507] CFURLCopyResourcePropertyForKey failed because it was passed this URL which has no scheme: \n",
        "2014-05-26 17:53:37.614 julia-basic[20892:507] CFURLCopyResourcePropertyForKey failed because it was passed this URL which has no scheme: \n"
       ]
      },
      {
       "output_type": "stream",
       "stream": "stderr",
       "text": [
        "2014-05-26 17:53:38.012 julia-basic[20892:507] CFURLCopyResourcePropertyForKey failed because it was passed this URL which has no scheme: \n",
        "2014-05-26 17:53:38.014 julia-basic[20892:507] CFURLCopyResourcePropertyForKey failed because it was passed this URL which has no scheme: \n"
       ]
      },
      {
       "output_type": "stream",
       "stream": "stderr",
       "text": [
        "2014-05-26 17:53:38.032 julia-basic[20892:507] CFURLCopyResourcePropertyForKey failed because it was passed this URL which has no scheme: \n",
        "2014-05-26 17:53:38.034 julia-basic[20892:507] CFURLCopyResourcePropertyForKey failed because it was passed this URL which has no scheme: \n",
        "2014-05-26 17:53:38.063 julia-basic[20892:507] CFURLCopyResourcePropertyForKey failed because it was passed this URL which has no scheme: \n",
        "2014-05-26 17:53:38.065 julia-basic[20892:507] CFURLCopyResourcePropertyForKey failed because it was passed this URL which has no scheme: \n"
       ]
      },
      {
       "output_type": "stream",
       "stream": "stderr",
       "text": [
        "2014-05-26 17:53:38.566 julia-basic[20892:507] CFURLCopyResourcePropertyForKey failed because it was passed this URL which has no scheme: \n",
        "2014-05-26 17:53:38.568 julia-basic[20892:507] CFURLCopyResourcePropertyForKey failed because it was passed this URL which has no scheme: \n",
        "2014-05-26 17:53:38.597 julia-basic[20892:507] CFURLCopyResourcePropertyForKey failed because it was passed this URL which has no scheme: \n",
        "2014-05-26 17:53:38.599 julia-basic[20892:507] CFURLCopyResourcePropertyForKey failed because it was passed this URL which has no scheme: \n",
        "2014-05-26 17:53:38.614 julia-basic[20892:507] CFURLCopyResourcePropertyForKey failed because it was passed this URL which has no scheme: \n",
        "2014-05-26 17:53:38.616 julia-basic[20892:507] CFURLCopyResourcePropertyForKey failed because it was passed this URL which has no scheme: \n",
        "2014-05-26 17:53:38.629 julia-basic[20892:507] CFURLCopyResourcePropertyForKey failed because it was passed this URL which has no scheme: \n",
        "2014-05-26 17:53:38.631 julia-basic[20892:507] CFURLCopyResourcePropertyForKey failed because it was passed this URL which has no scheme: \n",
        "2014-05-26 17:53:38.646 julia-basic[20892:507] CFURLCopyResourcePropertyForKey failed because it was passed this URL which has no scheme: \n",
        "2014-05-26 17:53:38.647 julia-basic[20892:507] CFURLCopyResourcePropertyForKey failed because it was passed this URL which has no scheme: \n",
        "2014-05-26 17:53:38.664 julia-basic[20892:507] CFURLCopyResourcePropertyForKey failed because it was passed this URL which has no scheme: \n",
        "2014-05-26 17:53:38.666 julia-basic[20892:507] CFURLCopyResourcePropertyForKey failed because it was passed this URL which has no scheme: \n",
        "2014-05-26 17:53:38.679 julia-basic[20892:507] CFURLCopyResourcePropertyForKey failed because it was passed this URL which has no scheme: \n",
        "2014-05-26 17:53:38.681 julia-basic[20892:507] CFURLCopyResourcePropertyForKey failed because it was passed this URL which has no scheme: \n",
        "2014-05-26 17:53:38.697 julia-basic[20892:507] CFURLCopyResourcePropertyForKey failed because it was passed this URL which has no scheme: \n",
        "2014-05-26 17:53:38.699 julia-basic[20892:507] CFURLCopyResourcePropertyForKey failed because it was passed this URL which has no scheme: \n",
        "2014-05-26 17:53:38.714 julia-basic[20892:507] CFURLCopyResourcePropertyForKey failed because it was passed this URL which has no scheme: \n",
        "2014-05-26 17:53:38.716 julia-basic[20892:507] CFURLCopyResourcePropertyForKey failed because it was passed this URL which has no scheme: \n",
        "2014-05-26 17:53:38.730 julia-basic[20892:507] CFURLCopyResourcePropertyForKey failed because it was passed this URL which has no scheme: \n",
        "2014-05-26 17:53:38.731 julia-basic[20892:507] CFURLCopyResourcePropertyForKey failed because it was passed this URL which has no scheme: \n",
        "2014-05-26 17:53:38.747 julia-basic[20892:507] CFURLCopyResourcePropertyForKey failed because it was passed this URL which has no scheme: \n",
        "2014-05-26 17:53:38.749 julia-basic[20892:507] CFURLCopyResourcePropertyForKey failed because it was passed this URL which has no scheme: \n",
        "2014-05-26 17:53:38.764 julia-basic[20892:507] CFURLCopyResourcePropertyForKey failed because it was passed this URL which has no scheme: \n",
        "2014-05-26 17:53:38.765 julia-basic[20892:507] CFURLCopyResourcePropertyForKey failed because it was passed this URL which has no scheme: \n",
        "2014-05-26 17:53:38.779 julia-basic[20892:507] CFURLCopyResourcePropertyForKey failed because it was passed this URL which has no scheme: \n",
        "2014-05-26 17:53:38.780 julia-basic[20892:507] CFURLCopyResourcePropertyForKey failed because it was passed this URL which has no scheme: \n"
       ]
      },
      {
       "output_type": "stream",
       "stream": "stderr",
       "text": [
        "2014-05-26 17:53:38.827 julia-basic[20892:507] CFURLCopyResourcePropertyForKey failed because it was passed this URL which has no scheme: \n",
        "2014-05-26 17:53:38.828 julia-basic[20892:507] CFURLCopyResourcePropertyForKey failed because it was passed this URL which has no scheme: \n",
        "2014-05-26 17:53:38.849 julia-basic[20892:507] CFURLCopyResourcePropertyForKey failed because it was passed this URL which has no scheme: \n",
        "2014-05-26 17:53:38.850 julia-basic[20892:507] CFURLCopyResourcePropertyForKey failed because it was passed this URL which has no scheme: \n",
        "2014-05-26 17:53:38.871 julia-basic[20892:507] CFURLCopyResourcePropertyForKey failed because it was passed this URL which has no scheme: \n",
        "2014-05-26 17:53:38.873 julia-basic[20892:507] CFURLCopyResourcePropertyForKey failed because it was passed this URL which has no scheme: \n"
       ]
      },
      {
       "output_type": "stream",
       "stream": "stderr",
       "text": [
        "2014-05-26 17:53:48.854 julia-basic[20892:507] CFURLCopyResourcePropertyForKey failed because it was passed this URL which has no scheme: \n",
        "2014-05-26 17:53:48.856 julia-basic[20892:507] CFURLCopyResourcePropertyForKey failed because it was passed this URL which has no scheme: \n",
        "2014-05-26 17:53:48.869 julia-basic[20892:507] CFURLCopyResourcePropertyForKey failed because it was passed this URL which has no scheme: \n",
        "2014-05-26 17:53:48.870 julia-basic[20892:507] CFURLCopyResourcePropertyForKey failed because it was passed this URL which has no scheme: \n",
        "2014-05-26 17:53:48.888 julia-basic[20892:507] CFURLCopyResourcePropertyForKey failed because it was passed this URL which has no scheme: \n",
        "2014-05-26 17:53:48.890 julia-basic[20892:507] CFURLCopyResourcePropertyForKey failed because it was passed this URL which has no scheme: \n",
        "2014-05-26 17:53:48.902 julia-basic[20892:507] CFURLCopyResourcePropertyForKey failed because it was passed this URL which has no scheme: \n",
        "2014-05-26 17:53:48.903 julia-basic[20892:507] CFURLCopyResourcePropertyForKey failed because it was passed this URL which has no scheme: \n",
        "2014-05-26 17:53:48.922 julia-basic[20892:507] CFURLCopyResourcePropertyForKey failed because it was passed this URL which has no scheme: \n",
        "2014-05-26 17:53:48.924 julia-basic[20892:507] CFURLCopyResourcePropertyForKey failed because it was passed this URL which has no scheme: \n",
        "2014-05-26 17:53:48.936 julia-basic[20892:507] CFURLCopyResourcePropertyForKey failed because it was passed this URL which has no scheme: \n",
        "2014-05-26 17:53:48.937 julia-basic[20892:507] CFURLCopyResourcePropertyForKey failed because it was passed this URL which has no scheme: \n",
        "2014-05-26 17:53:48.955 julia-basic[20892:507] CFURLCopyResourcePropertyForKey failed because it was passed this URL which has no scheme: \n",
        "2014-05-26 17:53:48.956 julia-basic[20892:507] CFURLCopyResourcePropertyForKey failed because it was passed this URL which has no scheme: \n"
       ]
      },
      {
       "output_type": "stream",
       "stream": "stderr",
       "text": [
        "2014-05-26 17:53:49.317 julia-basic[20892:507] CFURLCopyResourcePropertyForKey failed because it was passed this URL which has no scheme: \n",
        "2014-05-26 17:53:49.318 julia-basic[20892:507] CFURLCopyResourcePropertyForKey failed because it was passed this URL which has no scheme: \n"
       ]
      },
      {
       "output_type": "stream",
       "stream": "stderr",
       "text": [
        "2014-05-26 17:53:50.306 julia-basic[20892:507] CFURLCopyResourcePropertyForKey failed because it was passed this URL which has no scheme: \n",
        "2014-05-26 17:53:50.307 julia-basic[20892:507] CFURLCopyResourcePropertyForKey failed because it was passed this URL which has no scheme: \n"
       ]
      },
      {
       "output_type": "stream",
       "stream": "stderr",
       "text": [
        "2014-05-26 17:53:50.761 julia-basic[20892:507] CFURLCopyResourcePropertyForKey failed because it was passed this URL which has no scheme: \n",
        "2014-05-26 17:53:50.763 julia-basic[20892:507] CFURLCopyResourcePropertyForKey failed because it was passed this URL which has no scheme: \n"
       ]
      },
      {
       "output_type": "stream",
       "stream": "stderr",
       "text": [
        "2014-05-26 17:53:51.139 julia-basic[20892:507] CFURLCopyResourcePropertyForKey failed because it was passed this URL which has no scheme: \n",
        "2014-05-26 17:53:51.140 julia-basic[20892:507] CFURLCopyResourcePropertyForKey failed because it was passed this URL which has no scheme: \n"
       ]
      },
      {
       "output_type": "stream",
       "stream": "stderr",
       "text": [
        "2014-05-26 17:53:52.124 julia-basic[20892:507] CFURLCopyResourcePropertyForKey failed because it was passed this URL which has no scheme: \n",
        "2014-05-26 17:53:52.126 julia-basic[20892:507] CFURLCopyResourcePropertyForKey failed because it was passed this URL which has no scheme: \n"
       ]
      },
      {
       "output_type": "stream",
       "stream": "stderr",
       "text": [
        "2014-05-26 17:53:54.174 julia-basic[20892:507] CFURLCopyResourcePropertyForKey failed because it was passed this URL which has no scheme: \n",
        "2014-05-26 17:53:54.176 julia-basic[20892:507] CFURLCopyResourcePropertyForKey failed because it was passed this URL which has no scheme: \n"
       ]
      },
      {
       "output_type": "stream",
       "stream": "stderr",
       "text": [
        "2014-05-26 17:53:54.732 julia-basic[20892:507] CFURLCopyResourcePropertyForKey failed because it was passed this URL which has no scheme: \n",
        "2014-05-26 17:53:54.733 julia-basic[20892:507] CFURLCopyResourcePropertyForKey failed because it was passed this URL which has no scheme: \n"
       ]
      },
      {
       "output_type": "stream",
       "stream": "stderr",
       "text": [
        "2014-05-26 17:54:12.789 julia-basic[20892:507] CFURLCopyResourcePropertyForKey failed because it was passed this URL which has no scheme: \n",
        "2014-05-26 17:54:12.790 julia-basic[20892:507] CFURLCopyResourcePropertyForKey failed because it was passed this URL which has no scheme: \n"
       ]
      },
      {
       "output_type": "stream",
       "stream": "stderr",
       "text": [
        "2014-05-26 17:54:13.287 julia-basic[20892:507] CFURLCopyResourcePropertyForKey failed because it was passed this URL which has no scheme: \n",
        "2014-05-26 17:54:13.289 julia-basic[20892:507] CFURLCopyResourcePropertyForKey failed because it was passed this URL which has no scheme: \n"
       ]
      },
      {
       "output_type": "stream",
       "stream": "stderr",
       "text": [
        "2014-05-26 18:14:51.167 julia-basic[20892:507] CFURLCopyResourcePropertyForKey failed because it was passed this URL which has no scheme: \n",
        "2014-05-26 18:14:51.169 julia-basic[20892:507] CFURLCopyResourcePropertyForKey failed because it was passed this URL which has no scheme: \n"
       ]
      },
      {
       "output_type": "stream",
       "stream": "stderr",
       "text": [
        "2014-05-26 18:15:35.275 julia-basic[20892:507] CFURLCopyResourcePropertyForKey failed because it was passed this URL which has no scheme: \n"
       ]
      },
      {
       "output_type": "stream",
       "stream": "stderr",
       "text": [
        "2014-05-26 18:15:35.285 julia-basic[20892:507] CFURLCopyResourcePropertyForKey failed because it was passed this URL which has no scheme: \n"
       ]
      },
      {
       "output_type": "stream",
       "stream": "stderr",
       "text": [
        "2014-05-26 18:15:40.143 julia-basic[20892:507] CFURLCopyResourcePropertyForKey failed because it was passed this URL which has no scheme: \n",
        "2014-05-26 18:15:40.145 julia-basic[20892:507] CFURLCopyResourcePropertyForKey failed because it was passed this URL which has no scheme: \n"
       ]
      },
      {
       "output_type": "stream",
       "stream": "stderr",
       "text": [
        "2014-05-26 18:15:40.543 julia-basic[20892:507] CFURLCopyResourcePropertyForKey failed because it was passed this URL which has no scheme: \n",
        "2014-05-26 18:15:40.545 julia-basic[20892:507] CFURLCopyResourcePropertyForKey failed because it was passed this URL which has no scheme: \n"
       ]
      },
      {
       "output_type": "stream",
       "stream": "stderr",
       "text": [
        "2014-05-26 18:15:41.232 julia-basic[20892:507] CFURLCopyResourcePropertyForKey failed because it was passed this URL which has no scheme: \n",
        "2014-05-26 18:15:41.233 julia-basic[20892:507] CFURLCopyResourcePropertyForKey failed because it was passed this URL which has no scheme: \n"
       ]
      },
      {
       "output_type": "stream",
       "stream": "stderr",
       "text": [
        "2014-05-26 18:15:41.681 julia-basic[20892:507] CFURLCopyResourcePropertyForKey failed because it was passed this URL which has no scheme: \n",
        "2014-05-26 18:15:41.683 julia-basic[20892:507] CFURLCopyResourcePropertyForKey failed because it was passed this URL which has no scheme: \n"
       ]
      },
      {
       "output_type": "stream",
       "stream": "stderr",
       "text": [
        "2014-05-26 18:15:42.178 julia-basic[20892:507] CFURLCopyResourcePropertyForKey failed because it was passed this URL which has no scheme: \n",
        "2014-05-26 18:15:42.180 julia-basic[20892:507] CFURLCopyResourcePropertyForKey failed because it was passed this URL which has no scheme: \n"
       ]
      },
      {
       "output_type": "stream",
       "stream": "stderr",
       "text": [
        "2014-05-26 18:15:42.746 julia-basic[20892:507] CFURLCopyResourcePropertyForKey failed because it was passed this URL which has no scheme: \n",
        "2014-05-26 18:15:42.748 julia-basic[20892:507] CFURLCopyResourcePropertyForKey failed because it was passed this URL which has no scheme: \n"
       ]
      },
      {
       "output_type": "stream",
       "stream": "stderr",
       "text": [
        "2014-05-26 18:15:43.195 julia-basic[20892:507] CFURLCopyResourcePropertyForKey failed because it was passed this URL which has no scheme: \n",
        "2014-05-26 18:15:43.197 julia-basic[20892:507] CFURLCopyResourcePropertyForKey failed because it was passed this URL which has no scheme: \n"
       ]
      },
      {
       "output_type": "stream",
       "stream": "stderr",
       "text": [
        "2014-05-26 18:15:43.938 julia-basic[20892:507] CFURLCopyResourcePropertyForKey failed because it was passed this URL which has no scheme: \n",
        "2014-05-26 18:15:43.940 julia-basic[20892:507] CFURLCopyResourcePropertyForKey failed because it was passed this URL which has no scheme: \n"
       ]
      },
      {
       "output_type": "stream",
       "stream": "stderr",
       "text": [
        "2014-05-26 18:15:44.222 julia-basic[20892:507] CFURLCopyResourcePropertyForKey failed because it was passed this URL which has no scheme: \n",
        "2014-05-26 18:15:44.224 julia-basic[20892:507] CFURLCopyResourcePropertyForKey failed because it was passed this URL which has no scheme: \n"
       ]
      },
      {
       "output_type": "stream",
       "stream": "stderr",
       "text": [
        "2014-05-26 18:15:44.943 julia-basic[20892:507] CFURLCopyResourcePropertyForKey failed because it was passed this URL which has no scheme: \n",
        "2014-05-26 18:15:44.944 julia-basic[20892:507] CFURLCopyResourcePropertyForKey failed because it was passed this URL which has no scheme: \n"
       ]
      },
      {
       "output_type": "stream",
       "stream": "stderr",
       "text": [
        "2014-05-26 18:15:45.576 julia-basic[20892:507] CFURLCopyResourcePropertyForKey failed because it was passed this URL which has no scheme: \n",
        "2014-05-26 18:15:45.578 julia-basic[20892:507] CFURLCopyResourcePropertyForKey failed because it was passed this URL which has no scheme: \n"
       ]
      },
      {
       "output_type": "stream",
       "stream": "stderr",
       "text": [
        "2014-05-26 18:15:46.110 julia-basic[20892:507] CFURLCopyResourcePropertyForKey failed because it was passed this URL which has no scheme: \n",
        "2014-05-26 18:15:46.111 julia-basic[20892:507] CFURLCopyResourcePropertyForKey failed because it was passed this URL which has no scheme: \n"
       ]
      },
      {
       "output_type": "stream",
       "stream": "stderr",
       "text": [
        "2014-05-26 18:15:49.126 julia-basic[20892:507] CFURLCopyResourcePropertyForKey failed because it was passed this URL which has no scheme: \n",
        "2014-05-26 18:15:49.127 julia-basic[20892:507] CFURLCopyResourcePropertyForKey failed because it was passed this URL which has no scheme: \n",
        "2014-05-26 18:15:49.186 julia-basic[20892:507] CFURLCopyResourcePropertyForKey failed because it was passed this URL which has no scheme: \n",
        "2014-05-26 18:15:49.187 julia-basic[20892:507] CFURLCopyResourcePropertyForKey failed because it was passed this URL which has no scheme: \n",
        "2014-05-26 18:15:49.274 julia-basic[20892:507] CFURLCopyResourcePropertyForKey failed because it was passed this URL which has no scheme: \n",
        "2014-05-26 18:15:49.275 julia-basic[20892:507] CFURLCopyResourcePropertyForKey failed because it was passed this URL which has no scheme: \n",
        "2014-05-26 18:15:49.478 julia-basic[20892:507] CFURLCopyResourcePropertyForKey failed because it was passed this URL which has no scheme: \n",
        "2014-05-26 18:15:49.479 julia-basic[20892:507] CFURLCopyResourcePropertyForKey failed because it was passed this URL which has no scheme: \n",
        "2014-05-26 18:15:49.540 julia-basic[20892:507] CFURLCopyResourcePropertyForKey failed because it was passed this URL which has no scheme: \n",
        "2014-05-26 18:15:49.541 julia-basic[20892:507] CFURLCopyResourcePropertyForKey failed because it was passed this URL which has no scheme: \n",
        "2014-05-26 18:15:49.589 julia-basic[20892:507] CFURLCopyResourcePropertyForKey failed because it was passed this URL which has no scheme: \n",
        "2014-05-26 18:15:49.590 julia-basic[20892:507] CFURLCopyResourcePropertyForKey failed because it was passed this URL which has no scheme: \n",
        "2014-05-26 18:15:49.623 julia-basic[20892:507] CFURLCopyResourcePropertyForKey failed because it was passed this URL which has no scheme: \n",
        "2014-05-26 18:15:49.624 julia-basic[20892:507] CFURLCopyResourcePropertyForKey failed because it was passed this URL which has no scheme: \n",
        "2014-05-26 18:15:49.653 julia-basic[20892:507] CFURLCopyResourcePropertyForKey failed because it was passed this URL which has no scheme: \n",
        "2014-05-26 18:15:49.654 julia-basic[20892:507] CFURLCopyResourcePropertyForKey failed because it was passed this URL which has no scheme: \n",
        "2014-05-26 18:15:49.882 julia-basic[20892:507] CFURLCopyResourcePropertyForKey failed because it was passed this URL which has no scheme: \n",
        "2014-05-26 18:15:49.883 julia-basic[20892:507] CFURLCopyResourcePropertyForKey failed because it was passed this URL which has no scheme: \n",
        "2014-05-26 18:15:49.918 julia-basic[20892:507] CFURLCopyResourcePropertyForKey failed because it was passed this URL which has no scheme: \n",
        "2014-05-26 18:15:49.919 julia-basic[20892:507] CFURLCopyResourcePropertyForKey failed because it was passed this URL which has no scheme: \n",
        "2014-05-26 18:15:49.955 julia-basic[20892:507] CFURLCopyResourcePropertyForKey failed because it was passed this URL which has no scheme: \n",
        "2014-05-26 18:15:49.956 julia-basic[20892:507] CFURLCopyResourcePropertyForKey failed because it was passed this URL which has no scheme: \n",
        "2014-05-26 18:15:49.985 julia-basic[20892:507] CFURLCopyResourcePropertyForKey failed because it was passed this URL which has no scheme: \n",
        "2014-05-26 18:15:49.986 julia-basic[20892:507] CFURLCopyResourcePropertyForKey failed because it was passed this URL which has no scheme: \n",
        "2014-05-26 18:15:50.020 julia-basic[20892:507] CFURLCopyResourcePropertyForKey failed because it was passed this URL which has no scheme: \n",
        "2014-05-26 18:15:50.021 julia-basic[20892:507] CFURLCopyResourcePropertyForKey failed because it was passed this URL which has no scheme: \n",
        "2014-05-26 18:15:50.053 julia-basic[20892:507] CFURLCopyResourcePropertyForKey failed because it was passed this URL which has no scheme: \n",
        "2014-05-26 18:15:50.054 julia-basic[20892:507] CFURLCopyResourcePropertyForKey failed because it was passed this URL which has no scheme: \n",
        "2014-05-26 18:15:50.087 julia-basic[20892:507] CFURLCopyResourcePropertyForKey failed because it was passed this URL which has no scheme: \n",
        "2014-05-26 18:15:50.088 julia-basic[20892:507] CFURLCopyResourcePropertyForKey failed because it was passed this URL which has no scheme: \n",
        "2014-05-26 18:15:50.122 julia-basic[20892:507] CFURLCopyResourcePropertyForKey failed because it was passed this URL which has no scheme: \n",
        "2014-05-26 18:15:50.123 julia-basic[20892:507] CFURLCopyResourcePropertyForKey failed because it was passed this URL which has no scheme: \n",
        "2014-05-26 18:15:50.153 julia-basic[20892:507] CFURLCopyResourcePropertyForKey failed because it was passed this URL which has no scheme: \n",
        "2014-05-26 18:15:50.154 julia-basic[20892:507] CFURLCopyResourcePropertyForKey failed because it was passed this URL which has no scheme: \n",
        "2014-05-26 18:15:50.367 julia-basic[20892:507] CFURLCopyResourcePropertyForKey failed because it was passed this URL which has no scheme: \n",
        "2014-05-26 18:15:50.368 julia-basic[20892:507] CFURLCopyResourcePropertyForKey failed because it was passed this URL which has no scheme: \n",
        "2014-05-26 18:15:50.402 julia-basic[20892:507] CFURLCopyResourcePropertyForKey failed because it was passed this URL which has no scheme: \n",
        "2014-05-26 18:15:50.403 julia-basic[20892:507] CFURLCopyResourcePropertyForKey failed because it was passed this URL which has no scheme: \n",
        "2014-05-26 18:15:50.435 julia-basic[20892:507] CFURLCopyResourcePropertyForKey failed because it was passed this URL which has no scheme: \n",
        "2014-05-26 18:15:50.436 julia-basic[20892:507] CFURLCopyResourcePropertyForKey failed because it was passed this URL which has no scheme: \n",
        "2014-05-26 18:15:50.469 julia-basic[20892:507] CFURLCopyResourcePropertyForKey failed because it was passed this URL which has no scheme: \n",
        "2014-05-26 18:15:50.470 julia-basic[20892:507] CFURLCopyResourcePropertyForKey failed because it was passed this URL which has no scheme: \n"
       ]
      },
      {
       "output_type": "stream",
       "stream": "stderr",
       "text": [
        "2014-05-26 18:15:51.629 julia-basic[20892:507] CFURLCopyResourcePropertyForKey failed because it was passed this URL which has no scheme: \n",
        "2014-05-26 18:15:51.631 julia-basic[20892:507] CFURLCopyResourcePropertyForKey failed because it was passed this URL which has no scheme: \n"
       ]
      },
      {
       "output_type": "stream",
       "stream": "stderr",
       "text": [
        "2014-05-26 18:15:59.804 julia-basic[20892:507] CFURLCopyResourcePropertyForKey failed because it was passed this URL which has no scheme: \n",
        "2014-05-26 18:15:59.806 julia-basic[20892:507] CFURLCopyResourcePropertyForKey failed because it was passed this URL which has no scheme: \n"
       ]
      },
      {
       "output_type": "stream",
       "stream": "stderr",
       "text": [
        "2014-05-26 18:16:01.836 julia-basic[20892:507] CFURLCopyResourcePropertyForKey failed because it was passed this URL which has no scheme: \n",
        "2014-05-26 18:16:01.837 julia-basic[20892:507] CFURLCopyResourcePropertyForKey failed because it was passed this URL which has no scheme: \n"
       ]
      },
      {
       "output_type": "stream",
       "stream": "stderr",
       "text": [
        "2014-05-26 18:16:04.372 julia-basic[20892:507] CFURLCopyResourcePropertyForKey failed because it was passed this URL which has no scheme: \n",
        "2014-05-26 18:16:04.374 julia-basic[20892:507] CFURLCopyResourcePropertyForKey failed because it was passed this URL which has no scheme: \n"
       ]
      }
     ],
     "prompt_number": 44
    },
    {
     "cell_type": "code",
     "collapsed": false,
     "input": [
      "display(T1_masked_im)"
     ],
     "language": "python",
     "metadata": {},
     "outputs": [
      {
       "metadata": {},
       "output_type": "pyout",
       "prompt_number": 43,
       "text": [
        "(ImageCanvas,ImageSlice2d: zoom = BoundingBox(0.0,240.0,0.0,240.0), z = 1)"
       ]
      },
      {
       "output_type": "stream",
       "stream": "stderr",
       "text": [
        "2014-05-26 17:52:07.547 julia-basic[20892:507] CFURLCopyResourcePropertyForKey failed because it was passed this URL which has no scheme: \n",
        "2014-05-26 17:52:07.566 julia-basic[20892:507] CFURLCopyResourcePropertyForKey failed because it was passed this URL which has no scheme: \n"
       ]
      },
      {
       "output_type": "stream",
       "stream": "stderr",
       "text": [
        "2014-05-26 17:52:11.997 julia-basic[20892:507] CFURLCopyResourcePropertyForKey failed because it was passed this URL which has no scheme: \n",
        "2014-05-26 17:52:11.999 julia-basic[20892:507] CFURLCopyResourcePropertyForKey failed because it was passed this URL which has no scheme: \n"
       ]
      },
      {
       "output_type": "stream",
       "stream": "stderr",
       "text": [
        "2014-05-26 17:52:16.887 julia-basic[20892:507] CFURLCopyResourcePropertyForKey failed because it was passed this URL which has no scheme: \n",
        "2014-05-26 17:52:16.888 julia-basic[20892:507] CFURLCopyResourcePropertyForKey failed because it was passed this URL which has no scheme: \n"
       ]
      },
      {
       "output_type": "stream",
       "stream": "stderr",
       "text": [
        "2014-05-26 17:52:16.907 julia-basic[20892:507] CFURLCopyResourcePropertyForKey failed because it was passed this URL which has no scheme: \n",
        "2014-05-26 17:52:16.908 julia-basic[20892:507] CFURLCopyResourcePropertyForKey failed because it was passed this URL which has no scheme: \n",
        "2014-05-26 17:52:16.935 julia-basic[20892:507] CFURLCopyResourcePropertyForKey failed because it was passed this URL which has no scheme: \n",
        "2014-05-26 17:52:16.937 julia-basic[20892:507] CFURLCopyResourcePropertyForKey failed because it was passed this URL which has no scheme: \n",
        "2014-05-26 17:52:16.951 julia-basic[20892:507] CFURLCopyResourcePropertyForKey failed because it was passed this URL which has no scheme: \n",
        "2014-05-26 17:52:16.952 julia-basic[20892:507] CFURLCopyResourcePropertyForKey failed because it was passed this URL which has no scheme: \n",
        "2014-05-26 17:52:16.968 julia-basic[20892:507] CFURLCopyResourcePropertyForKey failed because it was passed this URL which has no scheme: \n",
        "2014-05-26 17:52:16.970 julia-basic[20892:507] CFURLCopyResourcePropertyForKey failed because it was passed this URL which has no scheme: \n",
        "2014-05-26 17:52:16.985 julia-basic[20892:507] CFURLCopyResourcePropertyForKey failed because it was passed this URL which has no scheme: \n",
        "2014-05-26 17:52:16.987 julia-basic[20892:507] CFURLCopyResourcePropertyForKey failed because it was passed this URL which has no scheme: \n"
       ]
      },
      {
       "output_type": "stream",
       "stream": "stderr",
       "text": [
        "2014-05-26 17:52:17.327 julia-basic[20892:507] CFURLCopyResourcePropertyForKey failed because it was passed this URL which has no scheme: \n",
        "2014-05-26 17:52:17.328 julia-basic[20892:507] CFURLCopyResourcePropertyForKey failed because it was passed this URL which has no scheme: \n"
       ]
      },
      {
       "output_type": "stream",
       "stream": "stderr",
       "text": [
        "2014-05-26 17:52:17.348 julia-basic[20892:507] CFURLCopyResourcePropertyForKey failed because it was passed this URL which has no scheme: \n",
        "2014-05-26 17:52:17.349 julia-basic[20892:507] CFURLCopyResourcePropertyForKey failed because it was passed this URL which has no scheme: \n",
        "2014-05-26 17:52:17.370 julia-basic[20892:507] CFURLCopyResourcePropertyForKey failed because it was passed this URL which has no scheme: \n",
        "2014-05-26 17:52:17.371 julia-basic[20892:507] CFURLCopyResourcePropertyForKey failed because it was passed this URL which has no scheme: \n",
        "2014-05-26 17:52:17.386 julia-basic[20892:507] CFURLCopyResourcePropertyForKey failed because it was passed this URL which has no scheme: \n",
        "2014-05-26 17:52:17.388 julia-basic[20892:507] CFURLCopyResourcePropertyForKey failed because it was passed this URL which has no scheme: \n",
        "2014-05-26 17:52:17.402 julia-basic[20892:507] CFURLCopyResourcePropertyForKey failed because it was passed this URL which has no scheme: \n",
        "2014-05-26 17:52:17.404 julia-basic[20892:507] CFURLCopyResourcePropertyForKey failed because it was passed this URL which has no scheme: \n",
        "2014-05-26 17:52:17.435 julia-basic[20892:507] CFURLCopyResourcePropertyForKey failed because it was passed this URL which has no scheme: \n",
        "2014-05-26 17:52:17.437 julia-basic[20892:507] CFURLCopyResourcePropertyForKey failed because it was passed this URL which has no scheme: \n",
        "2014-05-26 17:52:17.451 julia-basic[20892:507] CFURLCopyResourcePropertyForKey failed because it was passed this URL which has no scheme: \n",
        "2014-05-26 17:52:17.453 julia-basic[20892:507] CFURLCopyResourcePropertyForKey failed because it was passed this URL which has no scheme: \n",
        "2014-05-26 17:52:17.469 julia-basic[20892:507] CFURLCopyResourcePropertyForKey failed because it was passed this URL which has no scheme: \n",
        "2014-05-26 17:52:17.471 julia-basic[20892:507] CFURLCopyResourcePropertyForKey failed because it was passed this URL which has no scheme: \n",
        "2014-05-26 17:52:17.498 julia-basic[20892:507] CFURLCopyResourcePropertyForKey failed because it was passed this URL which has no scheme: \n",
        "2014-05-26 17:52:17.500 julia-basic[20892:507] CFURLCopyResourcePropertyForKey failed because it was passed this URL which has no scheme: \n",
        "2014-05-26 17:52:17.518 julia-basic[20892:507] CFURLCopyResourcePropertyForKey failed because it was passed this URL which has no scheme: \n",
        "2014-05-26 17:52:17.520 julia-basic[20892:507] CFURLCopyResourcePropertyForKey failed because it was passed this URL which has no scheme: \n",
        "2014-05-26 17:52:17.535 julia-basic[20892:507] CFURLCopyResourcePropertyForKey failed because it was passed this URL which has no scheme: \n",
        "2014-05-26 17:52:17.537 julia-basic[20892:507] CFURLCopyResourcePropertyForKey failed because it was passed this URL which has no scheme: \n",
        "2014-05-26 17:52:17.551 julia-basic[20892:507] CFURLCopyResourcePropertyForKey failed because it was passed this URL which has no scheme: \n",
        "2014-05-26 17:52:17.553 julia-basic[20892:507] CFURLCopyResourcePropertyForKey failed because it was passed this URL which has no scheme: \n",
        "2014-05-26 17:52:17.568 julia-basic[20892:507] CFURLCopyResourcePropertyForKey failed because it was passed this URL which has no scheme: \n",
        "2014-05-26 17:52:17.570 julia-basic[20892:507] CFURLCopyResourcePropertyForKey failed because it was passed this URL which has no scheme: \n",
        "2014-05-26 17:52:17.585 julia-basic[20892:507] CFURLCopyResourcePropertyForKey failed because it was passed this URL which has no scheme: \n",
        "2014-05-26 17:52:17.587 julia-basic[20892:507] CFURLCopyResourcePropertyForKey failed because it was passed this URL which has no scheme: \n"
       ]
      },
      {
       "output_type": "stream",
       "stream": "stderr",
       "text": [
        "2014-05-26 17:52:24.163 julia-basic[20892:507] CFURLCopyResourcePropertyForKey failed because it was passed this URL which has no scheme: \n",
        "2014-05-26 17:52:24.164 julia-basic[20892:507] CFURLCopyResourcePropertyForKey failed because it was passed this URL which has no scheme: \n"
       ]
      },
      {
       "output_type": "stream",
       "stream": "stderr",
       "text": [
        "2014-05-26 17:52:24.199 julia-basic[20892:507] CFURLCopyResourcePropertyForKey failed because it was passed this URL which has no scheme: \n",
        "2014-05-26 17:52:24.200 julia-basic[20892:507] CFURLCopyResourcePropertyForKey failed because it was passed this URL which has no scheme: \n"
       ]
      },
      {
       "output_type": "stream",
       "stream": "stderr",
       "text": [
        "2014-05-26 17:52:24.297 julia-basic[20892:507] CFURLCopyResourcePropertyForKey failed because it was passed this URL which has no scheme: \n",
        "2014-05-26 17:52:24.298 julia-basic[20892:507] CFURLCopyResourcePropertyForKey failed because it was passed this URL which has no scheme: \n"
       ]
      },
      {
       "output_type": "stream",
       "stream": "stderr",
       "text": [
        "2014-05-26 17:52:24.511 julia-basic[20892:507] CFURLCopyResourcePropertyForKey failed because it was passed this URL which has no scheme: \n",
        "2014-05-26 17:52:24.512 julia-basic[20892:507] CFURLCopyResourcePropertyForKey failed because it was passed this URL which has no scheme: \n"
       ]
      },
      {
       "output_type": "stream",
       "stream": "stderr",
       "text": [
        "2014-05-26 17:52:26.225 julia-basic[20892:507] CFURLCopyResourcePropertyForKey failed because it was passed this URL which has no scheme: \n",
        "2014-05-26 17:52:26.227 julia-basic[20892:507] CFURLCopyResourcePropertyForKey failed because it was passed this URL which has no scheme: \n",
        "2014-05-26 17:52:26.240 julia-basic[20892:507] CFURLCopyResourcePropertyForKey failed because it was passed this URL which has no scheme: \n",
        "2014-05-26 17:52:26.242 julia-basic[20892:507] CFURLCopyResourcePropertyForKey failed because it was passed this URL which has no scheme: \n",
        "2014-05-26 17:52:26.259 julia-basic[20892:507] CFURLCopyResourcePropertyForKey failed because it was passed this URL which has no scheme: \n",
        "2014-05-26 17:52:26.261 julia-basic[20892:507] CFURLCopyResourcePropertyForKey failed because it was passed this URL which has no scheme: \n",
        "2014-05-26 17:52:26.276 julia-basic[20892:507] CFURLCopyResourcePropertyForKey failed because it was passed this URL which has no scheme: \n",
        "2014-05-26 17:52:26.277 julia-basic[20892:507] CFURLCopyResourcePropertyForKey failed because it was passed this URL which has no scheme: \n",
        "2014-05-26 17:52:26.291 julia-basic[20892:507] CFURLCopyResourcePropertyForKey failed because it was passed this URL which has no scheme: \n",
        "2014-05-26 17:52:26.293 julia-basic[20892:507] CFURLCopyResourcePropertyForKey failed because it was passed this URL which has no scheme: \n"
       ]
      },
      {
       "output_type": "stream",
       "stream": "stderr",
       "text": [
        "2014-05-26 17:52:26.329 julia-basic[20892:507] CFURLCopyResourcePropertyForKey failed because it was passed this URL which has no scheme: \n",
        "2014-05-26 17:52:26.331 julia-basic[20892:507] CFURLCopyResourcePropertyForKey failed because it was passed this URL which has no scheme: \n"
       ]
      },
      {
       "output_type": "stream",
       "stream": "stderr",
       "text": [
        "2014-05-26 17:52:26.659 julia-basic[20892:507] CFURLCopyResourcePropertyForKey failed because it was passed this URL which has no scheme: \n",
        "2014-05-26 17:52:26.661 julia-basic[20892:507] CFURLCopyResourcePropertyForKey failed because it was passed this URL which has no scheme: \n"
       ]
      },
      {
       "output_type": "stream",
       "stream": "stderr",
       "text": [
        "2014-05-26 17:52:26.688 julia-basic[20892:507] CFURLCopyResourcePropertyForKey failed because it was passed this URL which has no scheme: \n",
        "2014-05-26 17:52:26.689 julia-basic[20892:507] CFURLCopyResourcePropertyForKey failed because it was passed this URL which has no scheme: \n",
        "2014-05-26 17:52:26.706 julia-basic[20892:507] CFURLCopyResourcePropertyForKey failed because it was passed this URL which has no scheme: \n",
        "2014-05-26 17:52:26.708 julia-basic[20892:507] CFURLCopyResourcePropertyForKey failed because it was passed this URL which has no scheme: \n",
        "2014-05-26 17:52:26.736 julia-basic[20892:507] CFURLCopyResourcePropertyForKey failed because it was passed this URL which has no scheme: \n",
        "2014-05-26 17:52:26.738 julia-basic[20892:507] CFURLCopyResourcePropertyForKey failed because it was passed this URL which has no scheme: \n",
        "2014-05-26 17:52:26.760 julia-basic[20892:507] CFURLCopyResourcePropertyForKey failed because it was passed this URL which has no scheme: \n",
        "2014-05-26 17:52:26.762 julia-basic[20892:507] CFURLCopyResourcePropertyForKey failed because it was passed this URL which has no scheme: \n"
       ]
      },
      {
       "output_type": "stream",
       "stream": "stderr",
       "text": [
        "2014-05-26 17:52:27.940 julia-basic[20892:507] CFURLCopyResourcePropertyForKey failed because it was passed this URL which has no scheme: \n",
        "2014-05-26 17:52:27.941 julia-basic[20892:507] CFURLCopyResourcePropertyForKey failed because it was passed this URL which has no scheme: \n"
       ]
      },
      {
       "output_type": "stream",
       "stream": "stderr",
       "text": [
        "2014-05-26 17:52:30.636 julia-basic[20892:507] CFURLCopyResourcePropertyForKey failed because it was passed this URL which has no scheme: \n",
        "2014-05-26 17:52:30.638 julia-basic[20892:507] CFURLCopyResourcePropertyForKey failed because it was passed this URL which has no scheme: \n"
       ]
      },
      {
       "output_type": "stream",
       "stream": "stderr",
       "text": [
        "2014-05-26 17:52:31.312 julia-basic[20892:507] CFURLCopyResourcePropertyForKey failed because it was passed this URL which has no scheme: \n"
       ]
      },
      {
       "output_type": "stream",
       "stream": "stderr",
       "text": [
        "2014-05-26 17:52:32.335 julia-basic[20892:507] CFURLCopyResourcePropertyForKey failed because it was passed this URL which has no scheme: \n"
       ]
      },
      {
       "output_type": "stream",
       "stream": "stderr",
       "text": [
        "2014-05-26 17:52:36.793 julia-basic[20892:507] CFURLCopyResourcePropertyForKey failed because it was passed this URL which has no scheme: \n",
        "2014-05-26 17:52:36.794 julia-basic[20892:507] CFURLCopyResourcePropertyForKey failed because it was passed this URL which has no scheme: \n"
       ]
      },
      {
       "output_type": "stream",
       "stream": "stderr",
       "text": [
        "2014-05-26 17:52:42.872 julia-basic[20892:507] CFURLCopyResourcePropertyForKey failed because it was passed this URL which has no scheme: \n",
        "2014-05-26 17:52:42.874 julia-basic[20892:507] CFURLCopyResourcePropertyForKey failed because it was passed this URL which has no scheme: \n",
        "2014-05-26 17:52:42.888 julia-basic[20892:507] CFURLCopyResourcePropertyForKey failed because it was passed this URL which has no scheme: \n",
        "2014-05-26 17:52:42.890 julia-basic[20892:507] CFURLCopyResourcePropertyForKey failed because it was passed this URL which has no scheme: \n",
        "2014-05-26 17:52:42.904 julia-basic[20892:507] CFURLCopyResourcePropertyForKey failed because it was passed this URL which has no scheme: \n",
        "2014-05-26 17:52:42.906 julia-basic[20892:507] CFURLCopyResourcePropertyForKey failed because it was passed this URL which has no scheme: \n",
        "2014-05-26 17:52:42.937 julia-basic[20892:507] CFURLCopyResourcePropertyForKey failed because it was passed this URL which has no scheme: \n",
        "2014-05-26 17:52:42.939 julia-basic[20892:507] CFURLCopyResourcePropertyForKey failed because it was passed this URL which has no scheme: \n"
       ]
      },
      {
       "output_type": "stream",
       "stream": "stderr",
       "text": [
        "2014-05-26 17:52:43.238 julia-basic[20892:507] CFURLCopyResourcePropertyForKey failed because it was passed this URL which has no scheme: \n",
        "2014-05-26 17:52:43.240 julia-basic[20892:507] CFURLCopyResourcePropertyForKey failed because it was passed this URL which has no scheme: \n",
        "2014-05-26 17:52:43.255 julia-basic[20892:507] CFURLCopyResourcePropertyForKey failed because it was passed this URL which has no scheme: \n",
        "2014-05-26 17:52:43.257 julia-basic[20892:507] CFURLCopyResourcePropertyForKey failed because it was passed this URL which has no scheme: \n"
       ]
      },
      {
       "output_type": "stream",
       "stream": "stderr",
       "text": [
        "2014-05-26 17:52:43.988 julia-basic[20892:507] CFURLCopyResourcePropertyForKey failed because it was passed this URL which has no scheme: \n",
        "2014-05-26 17:52:43.990 julia-basic[20892:507] CFURLCopyResourcePropertyForKey failed because it was passed this URL which has no scheme: \n",
        "2014-05-26 17:52:44.006 julia-basic[20892:507] CFURLCopyResourcePropertyForKey failed because it was passed this URL which has no scheme: \n",
        "2014-05-26 17:52:44.007 julia-basic[20892:507] CFURLCopyResourcePropertyForKey failed because it was passed this URL which has no scheme: \n",
        "2014-05-26 17:52:44.022 julia-basic[20892:507] CFURLCopyResourcePropertyForKey failed because it was passed this URL which has no scheme: \n",
        "2014-05-26 17:52:44.024 julia-basic[20892:507] CFURLCopyResourcePropertyForKey failed because it was passed this URL which has no scheme: \n",
        "2014-05-26 17:52:44.038 julia-basic[20892:507] CFURLCopyResourcePropertyForKey failed because it was passed this URL which has no scheme: \n",
        "2014-05-26 17:52:44.040 julia-basic[20892:507] CFURLCopyResourcePropertyForKey failed because it was passed this URL which has no scheme: \n",
        "2014-05-26 17:52:44.055 julia-basic[20892:507] CFURLCopyResourcePropertyForKey failed because it was passed this URL which has no scheme: \n",
        "2014-05-26 17:52:44.057 julia-basic[20892:507] CFURLCopyResourcePropertyForKey failed because it was passed this URL which has no scheme: \n",
        "2014-05-26 17:52:44.073 julia-basic[20892:507] CFURLCopyResourcePropertyForKey failed because it was passed this URL which has no scheme: \n",
        "2014-05-26 17:52:44.074 julia-basic[20892:507] CFURLCopyResourcePropertyForKey failed because it was passed this URL which has no scheme: \n",
        "2014-05-26 17:52:44.088 julia-basic[20892:507] CFURLCopyResourcePropertyForKey failed because it was passed this URL which has no scheme: \n",
        "2014-05-26 17:52:44.090 julia-basic[20892:507] CFURLCopyResourcePropertyForKey failed because it was passed this URL which has no scheme: \n",
        "2014-05-26 17:52:44.105 julia-basic[20892:507] CFURLCopyResourcePropertyForKey failed because it was passed this URL which has no scheme: \n",
        "2014-05-26 17:52:44.107 julia-basic[20892:507] CFURLCopyResourcePropertyForKey failed because it was passed this URL which has no scheme: \n",
        "2014-05-26 17:52:44.121 julia-basic[20892:507] CFURLCopyResourcePropertyForKey failed because it was passed this URL which has no scheme: \n",
        "2014-05-26 17:52:44.123 julia-basic[20892:507] CFURLCopyResourcePropertyForKey failed because it was passed this URL which has no scheme: \n",
        "2014-05-26 17:52:44.138 julia-basic[20892:507] CFURLCopyResourcePropertyForKey failed because it was passed this URL which has no scheme: \n",
        "2014-05-26 17:52:44.140 julia-basic[20892:507] CFURLCopyResourcePropertyForKey failed because it was passed this URL which has no scheme: \n",
        "2014-05-26 17:52:44.155 julia-basic[20892:507] CFURLCopyResourcePropertyForKey failed because it was passed this URL which has no scheme: \n",
        "2014-05-26 17:52:44.157 julia-basic[20892:507] CFURLCopyResourcePropertyForKey failed because it was passed this URL which has no scheme: \n",
        "2014-05-26 17:52:44.188 julia-basic[20892:507] CFURLCopyResourcePropertyForKey failed because it was passed this URL which has no scheme: \n",
        "2014-05-26 17:52:44.190 julia-basic[20892:507] CFURLCopyResourcePropertyForKey failed because it was passed this URL which has no scheme: \n",
        "2014-05-26 17:52:44.205 julia-basic[20892:507] CFURLCopyResourcePropertyForKey failed because it was passed this URL which has no scheme: \n",
        "2014-05-26 17:52:44.207 julia-basic[20892:507] CFURLCopyResourcePropertyForKey failed because it was passed this URL which has no scheme: \n",
        "2014-05-26 17:52:44.220 julia-basic[20892:507] CFURLCopyResourcePropertyForKey failed because it was passed this URL which has no scheme: \n",
        "2014-05-26 17:52:44.222 julia-basic[20892:507] CFURLCopyResourcePropertyForKey failed because it was passed this URL which has no scheme: \n"
       ]
      },
      {
       "output_type": "stream",
       "stream": "stderr",
       "text": [
        "2014-05-26 17:52:44.278 julia-basic[20892:507] CFURLCopyResourcePropertyForKey failed because it was passed this URL which has no scheme: \n",
        "2014-05-26 17:52:44.280 julia-basic[20892:507] CFURLCopyResourcePropertyForKey failed because it was passed this URL which has no scheme: \n",
        "2014-05-26 17:52:44.305 julia-basic[20892:507] CFURLCopyResourcePropertyForKey failed because it was passed this URL which has no scheme: \n",
        "2014-05-26 17:52:44.307 julia-basic[20892:507] CFURLCopyResourcePropertyForKey failed because it was passed this URL which has no scheme: \n",
        "2014-05-26 17:52:44.321 julia-basic[20892:507] CFURLCopyResourcePropertyForKey failed because it was passed this URL which has no scheme: \n",
        "2014-05-26 17:52:44.323 julia-basic[20892:507] CFURLCopyResourcePropertyForKey failed because it was passed this URL which has no scheme: \n"
       ]
      },
      {
       "output_type": "stream",
       "stream": "stderr",
       "text": [
        "2014-05-26 17:52:44.353 julia-basic[20892:507] CFURLCopyResourcePropertyForKey failed because it was passed this URL which has no scheme: \n",
        "2014-05-26 17:52:44.354 julia-basic[20892:507] CFURLCopyResourcePropertyForKey failed because it was passed this URL which has no scheme: \n",
        "2014-05-26 17:52:44.406 julia-basic[20892:507] CFURLCopyResourcePropertyForKey failed because it was passed this URL which has no scheme: \n",
        "2014-05-26 17:52:44.408 julia-basic[20892:507] CFURLCopyResourcePropertyForKey failed because it was passed this URL which has no scheme: \n",
        "2014-05-26 17:52:44.420 julia-basic[20892:507] CFURLCopyResourcePropertyForKey failed because it was passed this URL which has no scheme: \n",
        "2014-05-26 17:52:44.422 julia-basic[20892:507] CFURLCopyResourcePropertyForKey failed because it was passed this URL which has no scheme: \n"
       ]
      },
      {
       "output_type": "stream",
       "stream": "stderr",
       "text": [
        "2014-05-26 17:52:45.524 julia-basic[20892:507] CFURLCopyResourcePropertyForKey failed because it was passed this URL which has no scheme: \n",
        "2014-05-26 17:52:45.525 julia-basic[20892:507] CFURLCopyResourcePropertyForKey failed because it was passed this URL which has no scheme: \n",
        "2014-05-26 17:52:45.545 julia-basic[20892:507] CFURLCopyResourcePropertyForKey failed because it was passed this URL which has no scheme: \n",
        "2014-05-26 17:52:45.547 julia-basic[20892:507] CFURLCopyResourcePropertyForKey failed because it was passed this URL which has no scheme: \n",
        "2014-05-26 17:52:45.574 julia-basic[20892:507] CFURLCopyResourcePropertyForKey failed because it was passed this URL which has no scheme: \n",
        "2014-05-26 17:52:45.575 julia-basic[20892:507] CFURLCopyResourcePropertyForKey failed because it was passed this URL which has no scheme: \n",
        "2014-05-26 17:52:45.591 julia-basic[20892:507] CFURLCopyResourcePropertyForKey failed because it was passed this URL which has no scheme: \n",
        "2014-05-26 17:52:45.593 julia-basic[20892:507] CFURLCopyResourcePropertyForKey failed because it was passed this URL which has no scheme: \n",
        "2014-05-26 17:52:45.607 julia-basic[20892:507] CFURLCopyResourcePropertyForKey failed because it was passed this URL which has no scheme: \n",
        "2014-05-26 17:52:45.609 julia-basic[20892:507] CFURLCopyResourcePropertyForKey failed because it was passed this URL which has no scheme: \n"
       ]
      },
      {
       "output_type": "stream",
       "stream": "stderr",
       "text": [
        "2014-05-26 17:52:45.730 julia-basic[20892:507] CFURLCopyResourcePropertyForKey failed because it was passed this URL which has no scheme: \n",
        "2014-05-26 17:52:45.731 julia-basic[20892:507] CFURLCopyResourcePropertyForKey failed because it was passed this URL which has no scheme: \n",
        "2014-05-26 17:52:45.738 julia-basic[20892:507] CFURLCopyResourcePropertyForKey failed because it was passed this URL which has no scheme: \n",
        "2014-05-26 17:52:45.739 julia-basic[20892:507] CFURLCopyResourcePropertyForKey failed because it was passed this URL which has no scheme: \n"
       ]
      },
      {
       "output_type": "stream",
       "stream": "stderr",
       "text": [
        "2014-05-26 17:52:45.756 julia-basic[20892:507] CFURLCopyResourcePropertyForKey failed because it was passed this URL which has no scheme: \n",
        "2014-05-26 17:52:45.758 julia-basic[20892:507] CFURLCopyResourcePropertyForKey failed because it was passed this URL which has no scheme: \n"
       ]
      },
      {
       "output_type": "stream",
       "stream": "stderr",
       "text": [
        "2014-05-26 17:52:46.806 julia-basic[20892:507] CFURLCopyResourcePropertyForKey failed because it was passed this URL which has no scheme: \n",
        "2014-05-26 17:52:46.808 julia-basic[20892:507] CFURLCopyResourcePropertyForKey failed because it was passed this URL which has no scheme: \n",
        "2014-05-26 17:52:46.824 julia-basic[20892:507] CFURLCopyResourcePropertyForKey failed because it was passed this URL which has no scheme: \n",
        "2014-05-26 17:52:46.826 julia-basic[20892:507] CFURLCopyResourcePropertyForKey failed because it was passed this URL which has no scheme: \n",
        "2014-05-26 17:52:46.841 julia-basic[20892:507] CFURLCopyResourcePropertyForKey failed because it was passed this URL which has no scheme: \n",
        "2014-05-26 17:52:46.843 julia-basic[20892:507] CFURLCopyResourcePropertyForKey failed because it was passed this URL which has no scheme: \n",
        "2014-05-26 17:52:46.857 julia-basic[20892:507] CFURLCopyResourcePropertyForKey failed because it was passed this URL which has no scheme: \n",
        "2014-05-26 17:52:46.859 julia-basic[20892:507] CFURLCopyResourcePropertyForKey failed because it was passed this URL which has no scheme: \n"
       ]
      },
      {
       "output_type": "stream",
       "stream": "stderr",
       "text": [
        "2014-05-26 17:52:46.887 julia-basic[20892:507] CFURLCopyResourcePropertyForKey failed because it was passed this URL which has no scheme: \n",
        "2014-05-26 17:52:46.888 julia-basic[20892:507] CFURLCopyResourcePropertyForKey failed because it was passed this URL which has no scheme: \n",
        "2014-05-26 17:52:46.918 julia-basic[20892:507] CFURLCopyResourcePropertyForKey failed because it was passed this URL which has no scheme: \n",
        "2014-05-26 17:52:46.919 julia-basic[20892:507] CFURLCopyResourcePropertyForKey failed because it was passed this URL which has no scheme: \n",
        "2014-05-26 17:52:46.939 julia-basic[20892:507] CFURLCopyResourcePropertyForKey failed because it was passed this URL which has no scheme: \n",
        "2014-05-26 17:52:46.940 julia-basic[20892:507] CFURLCopyResourcePropertyForKey failed because it was passed this URL which has no scheme: \n"
       ]
      },
      {
       "output_type": "stream",
       "stream": "stderr",
       "text": [
        "2014-05-26 17:52:46.980 julia-basic[20892:507] CFURLCopyResourcePropertyForKey failed because it was passed this URL which has no scheme: \n",
        "2014-05-26 17:52:46.982 julia-basic[20892:507] CFURLCopyResourcePropertyForKey failed because it was passed this URL which has no scheme: \n",
        "2014-05-26 17:52:46.993 julia-basic[20892:507] CFURLCopyResourcePropertyForKey failed because it was passed this URL which has no scheme: \n",
        "2014-05-26 17:52:46.995 julia-basic[20892:507] CFURLCopyResourcePropertyForKey failed because it was passed this URL which has no scheme: \n",
        "2014-05-26 17:52:47.024 julia-basic[20892:507] CFURLCopyResourcePropertyForKey failed because it was passed this URL which has no scheme: \n",
        "2014-05-26 17:52:47.025 julia-basic[20892:507] CFURLCopyResourcePropertyForKey failed because it was passed this URL which has no scheme: \n",
        "2014-05-26 17:52:47.042 julia-basic[20892:507] CFURLCopyResourcePropertyForKey failed because it was passed this URL which has no scheme: \n",
        "2014-05-26 17:52:47.044 julia-basic[20892:507] CFURLCopyResourcePropertyForKey failed because it was passed this URL which has no scheme: \n",
        "2014-05-26 17:52:47.057 julia-basic[20892:507] CFURLCopyResourcePropertyForKey failed because it was passed this URL which has no scheme: \n",
        "2014-05-26 17:52:47.059 julia-basic[20892:507] CFURLCopyResourcePropertyForKey failed because it was passed this URL which has no scheme: \n"
       ]
      },
      {
       "output_type": "stream",
       "stream": "stderr",
       "text": [
        "2014-05-26 17:52:47.100 julia-basic[20892:507] CFURLCopyResourcePropertyForKey failed because it was passed this URL which has no scheme: \n",
        "2014-05-26 17:52:47.102 julia-basic[20892:507] CFURLCopyResourcePropertyForKey failed because it was passed this URL which has no scheme: \n"
       ]
      },
      {
       "output_type": "stream",
       "stream": "stderr",
       "text": [
        "2014-05-26 17:52:49.161 julia-basic[20892:507] CFURLCopyResourcePropertyForKey failed because it was passed this URL which has no scheme: \n",
        "2014-05-26 17:52:49.162 julia-basic[20892:507] CFURLCopyResourcePropertyForKey failed because it was passed this URL which has no scheme: \n"
       ]
      }
     ],
     "prompt_number": 43
    },
    {
     "cell_type": "code",
     "collapsed": false,
     "input": [
      "using RDatasets"
     ],
     "language": "python",
     "metadata": {},
     "outputs": [],
     "prompt_number": 45
    },
    {
     "cell_type": "code",
     "collapsed": false,
     "input": [
      "dataset(\"car\",\"SLID\")"
     ],
     "language": "python",
     "metadata": {},
     "outputs": [
      {
       "metadata": {},
       "output_type": "pyout",
       "prompt_number": 46,
       "text": [
        "7425x5 DataFrame:\n",
        "           Wages Education Age      Sex  Language\n",
        "[1,]       10.56      15.0  40   \"Male\" \"English\"\n",
        "[2,]        11.0      13.2  19   \"Male\" \"English\"\n",
        "[3,]          NA      16.0  49   \"Male\"   \"Other\"\n",
        "[4,]       17.76      14.0  46   \"Male\"   \"Other\"\n",
        "[5,]          NA       8.0  71   \"Male\" \"English\"\n",
        "[6,]        14.0      16.0  50 \"Female\" \"English\"\n",
        "[7,]          NA      12.0  70 \"Female\" \"English\"\n",
        "[8,]          NA      14.5  42 \"Female\" \"English\"\n",
        "[9,]         8.2      15.0  31   \"Male\" \"English\"\n",
        "[10,]         NA      10.0  56 \"Female\" \"English\"\n",
        "[11,]         NA      12.5  71 \"Female\" \"English\"\n",
        "[12,]      16.97      13.5  30 \"Female\" \"English\"\n",
        "[13,]         NA       2.0  56   \"Male\" \"English\"\n",
        "[14,]        6.7      12.0  61 \"Female\" \"English\"\n",
        "[15,]         NA      12.0  25 \"Female\" \"English\"\n",
        "[16,]         NA      11.0  36 \"Female\"  \"French\"\n",
        "[17,]         NA      11.0  54 \"Female\" \"English\"\n",
        "[18,]         NA      10.0  62 \"Female\" \"English\"\n",
        "[19,]         NA      10.5  70 \"Female\" \"English\"\n",
        "[20,]       14.0      14.0  46 \"Female\"   \"Other\"\n",
        "  :\n",
        "[7406,]     10.0      12.0  26   \"Male\"  \"French\"\n",
        "[7407,]       NA      10.0  46 \"Female\"  \"French\"\n",
        "[7408,]    23.57      12.1  44   \"Male\" \"English\"\n",
        "[7409,]       NA      10.6  55 \"Female\"   \"Other\"\n",
        "[7410,]     19.2      12.0  67   \"Male\" \"English\"\n",
        "[7411,]       NA      15.0  78 \"Female\"  \"French\"\n",
        "[7412,]       NA      12.0  53   \"Male\" \"English\"\n",
        "[7413,]    14.07       9.0  32   \"Male\"   \"Other\"\n",
        "[7414,]      5.6      12.0  37 \"Female\" \"English\"\n",
        "[7415,]       NA      11.0  75 \"Female\" \"English\"\n",
        "[7416,]    16.66       8.0  61 \"Female\" \"English\"\n",
        "[7417,]       NA      14.5  67   \"Male\"   \"Other\"\n",
        "[7418,]      6.8      13.1  20   \"Male\" \"English\"\n",
        "[7419,]    22.98      14.0  39   \"Male\"        NA\n",
        "[7420,]       NA      13.5  56 \"Female\"  \"French\"\n",
        "[7421,]       NA       8.0  73   \"Male\"   \"Other\"\n",
        "[7422,]    30.49      16.0  52   \"Male\"   \"Other\"\n",
        "[7423,]     22.0      15.0  41   \"Male\"   \"Other\"\n",
        "[7424,]    11.85      11.0  47 \"Female\" \"English\"\n",
        "[7425,]     23.0      14.0  30   \"Male\" \"English\"\n"
       ]
      }
     ],
     "prompt_number": 46
    },
    {
     "cell_type": "code",
     "collapsed": false,
     "input": [
      "using DataFrames"
     ],
     "language": "python",
     "metadata": {},
     "outputs": [],
     "prompt_number": 47
    },
    {
     "cell_type": "code",
     "collapsed": false,
     "input": [
      "a = DataFrame(ID = [1, 2], Name = [\"A\", \"B\"])"
     ],
     "language": "python",
     "metadata": {},
     "outputs": [
      {
       "metadata": {},
       "output_type": "pyout",
       "prompt_number": 48,
       "text": [
        "2x2 DataFrame:\n",
        "        ID Name\n",
        "[1,]     1  \"A\"\n",
        "[2,]     2  \"B\"\n"
       ]
      }
     ],
     "prompt_number": 48
    },
    {
     "cell_type": "code",
     "collapsed": false,
     "input": [
      "b = DataFrame(ID = [1, 3], Job = [\"Doctor\", \"Lawyer\"])"
     ],
     "language": "python",
     "metadata": {},
     "outputs": [
      {
       "metadata": {},
       "output_type": "pyout",
       "prompt_number": 49,
       "text": [
        "2x2 DataFrame:\n",
        "        ID      Job\n",
        "[1,]     1 \"Doctor\"\n",
        "[2,]     3 \"Lawyer\"\n"
       ]
      }
     ],
     "prompt_number": 49
    },
    {
     "cell_type": "code",
     "collapsed": false,
     "input": [
      "join(a, b, on = :ID, kind = :inner)"
     ],
     "language": "python",
     "metadata": {},
     "outputs": [
      {
       "metadata": {},
       "output_type": "pyout",
       "prompt_number": 50,
       "text": [
        "1x3 DataFrame:\n",
        "        ID Name      Job\n",
        "[1,]     1  \"A\" \"Doctor\"\n"
       ]
      }
     ],
     "prompt_number": 50
    },
    {
     "cell_type": "code",
     "collapsed": false,
     "input": [
      "join(a, b, on = :ID, kind = :left)"
     ],
     "language": "python",
     "metadata": {},
     "outputs": [
      {
       "metadata": {},
       "output_type": "pyout",
       "prompt_number": 51,
       "text": [
        "2x3 DataFrame:\n",
        "        ID Name      Job\n",
        "[1,]     1  \"A\" \"Doctor\"\n",
        "[2,]     2  \"B\"       NA\n"
       ]
      }
     ],
     "prompt_number": 51
    },
    {
     "cell_type": "code",
     "collapsed": false,
     "input": [
      "join(a, b, on = :ID, kind = :right)"
     ],
     "language": "python",
     "metadata": {},
     "outputs": [
      {
       "metadata": {},
       "output_type": "pyout",
       "prompt_number": 52,
       "text": [
        "2x3 DataFrame:\n",
        "          Name ID      Job\n",
        "[1,]       \"A\"  1 \"Doctor\"\n",
        "[2,]        NA  3 \"Lawyer\"\n"
       ]
      }
     ],
     "prompt_number": 52
    },
    {
     "cell_type": "code",
     "collapsed": false,
     "input": [
      "join(a, b, on = :ID, kind = :outer)"
     ],
     "language": "python",
     "metadata": {},
     "outputs": [
      {
       "metadata": {},
       "output_type": "pyout",
       "prompt_number": 53,
       "text": [
        "3x3 DataFrame:\n",
        "        ID   Name      Job\n",
        "[1,]     1    \"A\" \"Doctor\"\n",
        "[2,]     2    \"B\"       NA\n",
        "[3,]     3     NA \"Lawyer\"\n"
       ]
      }
     ],
     "prompt_number": 53
    },
    {
     "cell_type": "code",
     "collapsed": false,
     "input": [
      "c = DataFrame(ID = [3, 4], Name = [\"Doctor\",\"Lawyer\"])"
     ],
     "language": "python",
     "metadata": {},
     "outputs": [
      {
       "metadata": {},
       "output_type": "pyout",
       "prompt_number": 54,
       "text": [
        "2x2 DataFrame:\n",
        "        ID     Name\n",
        "[1,]     3 \"Doctor\"\n",
        "[2,]     4 \"Lawyer\"\n"
       ]
      }
     ],
     "prompt_number": 54
    },
    {
     "cell_type": "code",
     "collapsed": false,
     "input": [
      "join(a,c, on = :ID , kind = :outer)"
     ],
     "language": "python",
     "metadata": {},
     "outputs": [
      {
       "metadata": {},
       "output_type": "pyout",
       "prompt_number": 55,
       "text": [
        "4x3 DataFrame:\n",
        "        ID   Name   Name_1\n",
        "[1,]     1    \"A\"       NA\n",
        "[2,]     2    \"B\"       NA\n",
        "[3,]     3     NA \"Doctor\"\n",
        "[4,]     4     NA \"Lawyer\"\n"
       ]
      }
     ],
     "prompt_number": 55
    },
    {
     "cell_type": "code",
     "collapsed": false,
     "input": [
      "a"
     ],
     "language": "python",
     "metadata": {},
     "outputs": [
      {
       "metadata": {},
       "output_type": "pyout",
       "prompt_number": 56,
       "text": [
        "2x2 DataFrame:\n",
        "        ID Name\n",
        "[1,]     1  \"A\"\n",
        "[2,]     2  \"B\"\n"
       ]
      }
     ],
     "prompt_number": 56
    },
    {
     "cell_type": "code",
     "collapsed": false,
     "input": [
      "append!(a,b)"
     ],
     "language": "python",
     "metadata": {},
     "outputs": [
      {
       "ename": "LoadError",
       "evalue": "no method append!(DataFrame,DataFrame)\nat In[57]:1",
       "output_type": "pyerr",
       "traceback": [
        "no method append!(DataFrame,DataFrame)\nat In[57]:1"
       ]
      }
     ],
     "prompt_number": 57
    },
    {
     "cell_type": "code",
     "collapsed": false,
     "input": [
      "append!([1,2,3],[4,5,6])"
     ],
     "language": "python",
     "metadata": {},
     "outputs": [
      {
       "metadata": {},
       "output_type": "pyout",
       "prompt_number": 58,
       "text": [
        "6-element Array{Int64,1}:\n",
        " 1\n",
        " 2\n",
        " 3\n",
        " 4\n",
        " 5\n",
        " 6"
       ]
      }
     ],
     "prompt_number": 58
    },
    {
     "cell_type": "code",
     "collapsed": false,
     "input": [
      "append!(a,b)"
     ],
     "language": "python",
     "metadata": {},
     "outputs": [
      {
       "ename": "LoadError",
       "evalue": "no method append!(DataFrame,DataFrame)\nat In[59]:1",
       "output_type": "pyerr",
       "traceback": [
        "no method append!(DataFrame,DataFrame)\nat In[59]:1"
       ]
      }
     ],
     "prompt_number": 59
    },
    {
     "cell_type": "code",
     "collapsed": false,
     "input": [
      "Base.append!(a,b)"
     ],
     "language": "python",
     "metadata": {},
     "outputs": [
      {
       "ename": "LoadError",
       "evalue": "no method append!(DataFrame,DataFrame)\nat In[60]:1",
       "output_type": "pyerr",
       "traceback": [
        "no method append!(DataFrame,DataFrame)\nat In[60]:1"
       ]
      }
     ],
     "prompt_number": 60
    },
    {
     "cell_type": "code",
     "collapsed": false,
     "input": [
      "vcat([1,2,3],[4,5,6])"
     ],
     "language": "python",
     "metadata": {},
     "outputs": [
      {
       "metadata": {},
       "output_type": "pyout",
       "prompt_number": 63,
       "text": [
        "6-element Array{Int64,1}:\n",
        " 1\n",
        " 2\n",
        " 3\n",
        " 4\n",
        " 5\n",
        " 6"
       ]
      }
     ],
     "prompt_number": 63
    },
    {
     "cell_type": "code",
     "collapsed": false,
     "input": [
      "a = [1,2,3];"
     ],
     "language": "python",
     "metadata": {},
     "outputs": [],
     "prompt_number": 64
    },
    {
     "cell_type": "code",
     "collapsed": false,
     "input": [
      "a"
     ],
     "language": "python",
     "metadata": {},
     "outputs": [
      {
       "metadata": {},
       "output_type": "pyout",
       "prompt_number": 65,
       "text": [
        "3-element Array{Int64,1}:\n",
        " 1\n",
        " 2\n",
        " 3"
       ]
      }
     ],
     "prompt_number": 65
    },
    {
     "cell_type": "code",
     "collapsed": false,
     "input": [
      "labels = [\"a\",\"b\",\"c\"];"
     ],
     "language": "python",
     "metadata": {},
     "outputs": [],
     "prompt_number": 66
    },
    {
     "cell_type": "code",
     "collapsed": false,
     "input": [
      "i = 1"
     ],
     "language": "python",
     "metadata": {},
     "outputs": [
      {
       "metadata": {},
       "output_type": "pyout",
       "prompt_number": 69,
       "text": [
        "1"
       ]
      }
     ],
     "prompt_number": 69
    },
    {
     "cell_type": "code",
     "collapsed": false,
     "input": [
      "labels[i]"
     ],
     "language": "python",
     "metadata": {},
     "outputs": [
      {
       "metadata": {},
       "output_type": "pyout",
       "prompt_number": 70,
       "text": [
        "\"a\""
       ]
      }
     ],
     "prompt_number": 70
    },
    {
     "cell_type": "code",
     "collapsed": false,
     "input": [
      "[labels[i] for _ in a]"
     ],
     "language": "python",
     "metadata": {},
     "outputs": [
      {
       "metadata": {},
       "output_type": "pyout",
       "prompt_number": 74,
       "text": [
        "3-element Array{Any,1}:\n",
        " \"a\"\n",
        " \"a\"\n",
        " \"a\""
       ]
      }
     ],
     "prompt_number": 74
    },
    {
     "cell_type": "code",
     "collapsed": false,
     "input": [
      "bla = [1,2,3];"
     ],
     "language": "python",
     "metadata": {},
     "outputs": [],
     "prompt_number": 75
    },
    {
     "cell_type": "code",
     "collapsed": false,
     "input": [
      "vcat(bla,[4,5,6])"
     ],
     "language": "python",
     "metadata": {},
     "outputs": [
      {
       "metadata": {},
       "output_type": "pyout",
       "prompt_number": 78,
       "text": [
        "6-element Array{Int64,1}:\n",
        " 1\n",
        " 2\n",
        " 3\n",
        " 4\n",
        " 5\n",
        " 6"
       ]
      }
     ],
     "prompt_number": 78
    },
    {
     "cell_type": "code",
     "collapsed": false,
     "input": [
      "function masked_brain(brain_data, mask_data)\n",
      "    brain_masked = copy(brain_data);\n",
      "    brain_masked[mask_data .== 0] = 0;\n",
      "    brain_masked\n",
      "end"
     ],
     "language": "python",
     "metadata": {},
     "outputs": [
      {
       "metadata": {},
       "output_type": "pyout",
       "prompt_number": 96,
       "text": [
        "masked_brain (generic function with 1 method)"
       ]
      }
     ],
     "prompt_number": 96
    },
    {
     "cell_type": "code",
     "collapsed": false,
     "input": [
      "function normalized_niread(fname)\n",
      "    ni_data = niread(fname);\n",
      "    raw = ni_data.raw\n",
      "    raw_norm = raw - minimum(raw)\n",
      "    raw_norm /= maximum(raw_norm)\n",
      "end"
     ],
     "language": "python",
     "metadata": {},
     "outputs": [
      {
       "metadata": {},
       "output_type": "pyout",
       "prompt_number": 97,
       "text": [
        "normalized_niread (generic function with 1 method)"
       ]
      }
     ],
     "prompt_number": 97
    },
    {
     "cell_type": "code",
     "collapsed": false,
     "input": [
      "brain_mask_data = normalized_niread(\"samples/NC_03_mask_brain.nii\");"
     ],
     "language": "python",
     "metadata": {},
     "outputs": [],
     "prompt_number": 98
    },
    {
     "cell_type": "code",
     "collapsed": false,
     "input": [
      "T1_brain_masked = masked_brain(T1_data, brain_mask_data);"
     ],
     "language": "python",
     "metadata": {},
     "outputs": [],
     "prompt_number": 99
    },
    {
     "cell_type": "code",
     "collapsed": false,
     "input": [
      "canvas = display_brain_centers(T1_brain_masked);"
     ],
     "language": "python",
     "metadata": {},
     "outputs": [],
     "prompt_number": 100
    },
    {
     "cell_type": "code",
     "collapsed": false,
     "input": [
      "function nonzero_1d_data(voxel_data)\n",
      "    data_1d = vec(voxel_data);\n",
      "    nonzero_data = filter((x)-> x > 0, data_1d);\n",
      "    # we seemingly need Float64s to make Gadfly happy\n",
      "    data_float64 = map((x)-> convert(Float64, x), nonzero_data);\n",
      "end"
     ],
     "language": "python",
     "metadata": {},
     "outputs": [
      {
       "metadata": {},
       "output_type": "pyout",
       "prompt_number": 101,
       "text": [
        "nonzero_1d_data (generic function with 1 method)"
       ]
      }
     ],
     "prompt_number": 101
    },
    {
     "cell_type": "code",
     "collapsed": false,
     "input": [
      "T1_brain_1D = nonzero_1d_data(T1_brain_masked);"
     ],
     "language": "python",
     "metadata": {},
     "outputs": [],
     "prompt_number": 102
    },
    {
     "cell_type": "code",
     "collapsed": false,
     "input": [
      "gm_mask_data = normalized_niread(\"samples/NC_03_mask_GM.nii\");\n",
      "wm_mask_data = normalized_niread(\"samples/NC_03_mask_WM.nii\");\n",
      "csf_mask_data = normalized_niread(\"samples/NC_03_mask_CSF.nii\");"
     ],
     "language": "python",
     "metadata": {},
     "outputs": [],
     "prompt_number": 104
    },
    {
     "cell_type": "code",
     "collapsed": false,
     "input": [
      "T1_gm_masked = masked_brain(T1_data, gm_mask_data);\n",
      "T1_wm_masked = masked_brain(T1_data, wm_mask_data);\n",
      "T1_csf_masked = masked_brain(T1_data, csf_mask_data);"
     ],
     "language": "python",
     "metadata": {},
     "outputs": [],
     "prompt_number": 105
    },
    {
     "cell_type": "code",
     "collapsed": false,
     "input": [
      "T1_gm_im = grayim(T1_gm_masked);"
     ],
     "language": "python",
     "metadata": {},
     "outputs": [],
     "prompt_number": 106
    },
    {
     "cell_type": "code",
     "collapsed": false,
     "input": [
      "display(T1_gm_im)"
     ],
     "language": "python",
     "metadata": {},
     "outputs": [
      {
       "metadata": {},
       "output_type": "pyout",
       "prompt_number": 107,
       "text": [
        "(ImageCanvas,ImageSlice2d: zoom = BoundingBox(0.0,240.0,0.0,240.0), z = 1)"
       ]
      },
      {
       "output_type": "stream",
       "stream": "stderr",
       "text": [
        "2014-05-26 21:07:49.732 julia-basic[20892:507] CFURLCopyResourcePropertyForKey failed because it was passed this URL which has no scheme: \n",
        "2014-05-26 21:07:49.743 julia-basic[20892:507] CFURLCopyResourcePropertyForKey failed because it was passed this URL which has no scheme: \n"
       ]
      },
      {
       "output_type": "stream",
       "stream": "stderr",
       "text": [
        "2014-05-26 21:07:51.285 julia-basic[20892:507] CFURLCopyResourcePropertyForKey failed because it was passed this URL which has no scheme: \n",
        "2014-05-26 21:07:51.287 julia-basic[20892:507] CFURLCopyResourcePropertyForKey failed because it was passed this URL which has no scheme: \n"
       ]
      },
      {
       "output_type": "stream",
       "stream": "stderr",
       "text": [
        "2014-05-26 21:07:52.104 julia-basic[20892:507] CFURLCopyResourcePropertyForKey failed because it was passed this URL which has no scheme: \n",
        "2014-05-26 21:07:52.105 julia-basic[20892:507] CFURLCopyResourcePropertyForKey failed because it was passed this URL which has no scheme: \n"
       ]
      }
     ],
     "prompt_number": 107
    },
    {
     "cell_type": "code",
     "collapsed": false,
     "input": [
      "function nonzero_overlay_histogram(brains, labels)\n",
      "    # takes a vector of mri data vectors and corresponding labels as inputs\n",
      "    all_intensities = []\n",
      "    all_labels = []\n",
      "    for i = 1:length(labels)\n",
      "        brain_1d = nonzero_1d_data(brains[i]);\n",
      "        all_intensities = vcat(all_intensities, brain_1d)\n",
      "        all_labels = vcat(all_labels, [labels[i] for _ in brain_1d])\n",
      "    end\n",
      "\n",
      "    df = DataFrame(Intensity = all_intensities, Label = all_labels)\n",
      "    plot(df, x=\"Intensity\", color=\"Label\",\n",
      "         Geom.histogram(bincount=10),\n",
      "         Guide.xlabel(\"Intensity\"), Guide.ylabel(\"Voxel Count\"))\n",
      "end"
     ],
     "language": "python",
     "metadata": {},
     "outputs": [
      {
       "metadata": {},
       "output_type": "pyout",
       "prompt_number": 109,
       "text": [
        "nonzero_overlay_histogram (generic function with 1 method)"
       ]
      }
     ],
     "prompt_number": 109
    },
    {
     "cell_type": "code",
     "collapsed": false,
     "input": [
      "nonzero_overlay_histogram([T1_gm_masked, T1_wm_masked, T1_csf_masked],\n",
      "                          [\"GM\", \"WM\", \"CSF\"]);"
     ],
     "language": "python",
     "metadata": {},
     "outputs": [
      {
       "ename": "LoadError",
       "evalue": "no method vec(Float32,)\nat In[110]:2",
       "output_type": "pyerr",
       "traceback": [
        "no method vec(Float32,)\nat In[110]:2",
        " in nonzero_1d_data at In[101]:2",
        " in nonzero_overlay_histogram at In[109]:6"
       ]
      }
     ],
     "prompt_number": 110
    },
    {
     "cell_type": "code",
     "collapsed": false,
     "input": [
      "brains = {T1_gm_masked, T1_wm_masked, T1_csf_masked};"
     ],
     "language": "python",
     "metadata": {},
     "outputs": [],
     "prompt_number": 121
    },
    {
     "cell_type": "code",
     "collapsed": false,
     "input": [],
     "language": "python",
     "metadata": {},
     "outputs": [],
     "prompt_number": 126
    },
    {
     "cell_type": "code",
     "collapsed": false,
     "input": [],
     "language": "python",
     "metadata": {},
     "outputs": []
    }
   ],
   "metadata": {}
  }
 ]
}